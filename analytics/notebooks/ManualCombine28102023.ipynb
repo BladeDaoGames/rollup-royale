{
 "cells": [
  {
   "cell_type": "code",
   "execution_count": 1,
   "id": "2e744c37-9198-4529-a985-d62d02b926a1",
   "metadata": {},
   "outputs": [],
   "source": [
    "import os\n",
    "import sys\n",
    "from dotenv import load_dotenv, find_dotenv"
   ]
  },
  {
   "cell_type": "code",
   "execution_count": 2,
   "id": "6e29c3a1-4cd1-4e3d-abbb-57f27b24318c",
   "metadata": {},
   "outputs": [],
   "source": [
    "import json"
   ]
  },
  {
   "cell_type": "code",
   "execution_count": 3,
   "id": "892b08ef-63c1-4c97-83b1-85c367221d00",
   "metadata": {},
   "outputs": [],
   "source": [
    "import pandas as pd\n",
    "import numpy as np"
   ]
  },
  {
   "cell_type": "code",
   "execution_count": 4,
   "id": "079999ad-7584-45df-a24e-9aa27fe904de",
   "metadata": {},
   "outputs": [],
   "source": [
    "STREAMLIT_FOLDER_PATH = os.path.join(os.path.dirname(os.getcwd()), \"streamlit\")"
   ]
  },
  {
   "cell_type": "code",
   "execution_count": 5,
   "id": "bbcd363f-8823-4200-b5ce-141a7ef1d02b",
   "metadata": {},
   "outputs": [],
   "source": [
    "SCAN_FOLDER_PATH = os.path.join(os.path.dirname(os.getcwd()), \"streamlit\",\"scan\")"
   ]
  },
  {
   "cell_type": "code",
   "execution_count": 6,
   "id": "425d028e-a913-4e72-a186-4f1590d1c911",
   "metadata": {},
   "outputs": [],
   "source": [
    "DATA_FOLDER_PATH = os.path.join(os.path.dirname(os.getcwd()), \"data\",\"deploy5\")"
   ]
  },
  {
   "cell_type": "code",
   "execution_count": 7,
   "id": "2c3b4c85-937a-4f7e-b3de-5940c95c600b",
   "metadata": {},
   "outputs": [],
   "source": [
    "sys.path.append(SCAN_FOLDER_PATH)"
   ]
  },
  {
   "cell_type": "code",
   "execution_count": 8,
   "id": "b554e62f-9fa3-4a9e-a2ec-392090f9e3b2",
   "metadata": {},
   "outputs": [],
   "source": [
    "sys.path.append(DATA_FOLDER_PATH)"
   ]
  },
  {
   "cell_type": "code",
   "execution_count": 9,
   "id": "1ae6e8e4-0a92-41a1-9738-2e4d796519cc",
   "metadata": {},
   "outputs": [],
   "source": [
    "players = pd.read_pickle(os.path.join(DATA_FOLDER_PATH,\"initial\",\"players.pkl\"))"
   ]
  },
  {
   "cell_type": "code",
   "execution_count": 10,
   "id": "756220fc-04f2-42ac-a6db-249c05ceaf27",
   "metadata": {},
   "outputs": [
    {
     "data": {
      "text/html": [
       "<div>\n",
       "<style scoped>\n",
       "    .dataframe tbody tr th:only-of-type {\n",
       "        vertical-align: middle;\n",
       "    }\n",
       "\n",
       "    .dataframe tbody tr th {\n",
       "        vertical-align: top;\n",
       "    }\n",
       "\n",
       "    .dataframe thead th {\n",
       "        text-align: right;\n",
       "    }\n",
       "</style>\n",
       "<table border=\"1\" class=\"dataframe\">\n",
       "  <thead>\n",
       "    <tr style=\"text-align: right;\">\n",
       "      <th></th>\n",
       "      <th>burners</th>\n",
       "      <th>burnerParent</th>\n",
       "      <th>totalWins</th>\n",
       "      <th>totalLosses</th>\n",
       "      <th>totalGasEarned</th>\n",
       "      <th>totalGasLost</th>\n",
       "      <th>totalGames</th>\n",
       "      <th>totalRevenue</th>\n",
       "    </tr>\n",
       "  </thead>\n",
       "  <tbody>\n",
       "    <tr>\n",
       "      <th>0</th>\n",
       "      <td>0x3b44a30f9c125efC059caCb44f9Bbe2e3Fd94DFC</td>\n",
       "      <td>0xB32970743a239397e9cfe02a1D86eb4B734098DB</td>\n",
       "      <td>103.0</td>\n",
       "      <td>143.0</td>\n",
       "      <td>10.476</td>\n",
       "      <td>14.3</td>\n",
       "      <td>246.0</td>\n",
       "      <td>-3.824</td>\n",
       "    </tr>\n",
       "    <tr>\n",
       "      <th>1</th>\n",
       "      <td>0x4c0aBC4242e72Ae4c1431267e7Ab9EFfb516F1e9</td>\n",
       "      <td>0x03CE28D064cBFAcD218E37481AfC4606FcB518B4</td>\n",
       "      <td>13.0</td>\n",
       "      <td>129.0</td>\n",
       "      <td>3.698</td>\n",
       "      <td>12.9</td>\n",
       "      <td>142.0</td>\n",
       "      <td>-9.202</td>\n",
       "    </tr>\n",
       "    <tr>\n",
       "      <th>2</th>\n",
       "      <td>0x3FE255c4d125290977f5583F849040416CCE938c</td>\n",
       "      <td>0xE830F2785E2C4abbE8B9BCA738Efd6DE50D0CB86</td>\n",
       "      <td>33.0</td>\n",
       "      <td>58.0</td>\n",
       "      <td>3.364</td>\n",
       "      <td>5.8</td>\n",
       "      <td>91.0</td>\n",
       "      <td>-2.436</td>\n",
       "    </tr>\n",
       "    <tr>\n",
       "      <th>3</th>\n",
       "      <td>0x44a1Eb48c93B6297Dbf43B8896A2e793610B756d</td>\n",
       "      <td>0x512F753e1bF0b846de1FCdEbCEecab1CEa603E6d</td>\n",
       "      <td>31.0</td>\n",
       "      <td>43.0</td>\n",
       "      <td>3.172</td>\n",
       "      <td>4.3</td>\n",
       "      <td>74.0</td>\n",
       "      <td>-1.128</td>\n",
       "    </tr>\n",
       "    <tr>\n",
       "      <th>4</th>\n",
       "      <td>0x7141Bd2E038cc89E8D3c4dA6d87740949dF40212</td>\n",
       "      <td>0x7A1f11FF4d3a14452090b28Ea09Fe40F0cA94f81</td>\n",
       "      <td>16.0</td>\n",
       "      <td>41.0</td>\n",
       "      <td>2.124</td>\n",
       "      <td>4.1</td>\n",
       "      <td>57.0</td>\n",
       "      <td>-1.976</td>\n",
       "    </tr>\n",
       "  </tbody>\n",
       "</table>\n",
       "</div>"
      ],
      "text/plain": [
       "                                      burners  \\\n",
       "0  0x3b44a30f9c125efC059caCb44f9Bbe2e3Fd94DFC   \n",
       "1  0x4c0aBC4242e72Ae4c1431267e7Ab9EFfb516F1e9   \n",
       "2  0x3FE255c4d125290977f5583F849040416CCE938c   \n",
       "3  0x44a1Eb48c93B6297Dbf43B8896A2e793610B756d   \n",
       "4  0x7141Bd2E038cc89E8D3c4dA6d87740949dF40212   \n",
       "\n",
       "                                 burnerParent  totalWins  totalLosses  \\\n",
       "0  0xB32970743a239397e9cfe02a1D86eb4B734098DB      103.0        143.0   \n",
       "1  0x03CE28D064cBFAcD218E37481AfC4606FcB518B4       13.0        129.0   \n",
       "2  0xE830F2785E2C4abbE8B9BCA738Efd6DE50D0CB86       33.0         58.0   \n",
       "3  0x512F753e1bF0b846de1FCdEbCEecab1CEa603E6d       31.0         43.0   \n",
       "4  0x7A1f11FF4d3a14452090b28Ea09Fe40F0cA94f81       16.0         41.0   \n",
       "\n",
       "   totalGasEarned  totalGasLost  totalGames  totalRevenue  \n",
       "0          10.476          14.3       246.0        -3.824  \n",
       "1           3.698          12.9       142.0        -9.202  \n",
       "2           3.364           5.8        91.0        -2.436  \n",
       "3           3.172           4.3        74.0        -1.128  \n",
       "4           2.124           4.1        57.0        -1.976  "
      ]
     },
     "execution_count": 10,
     "metadata": {},
     "output_type": "execute_result"
    }
   ],
   "source": [
    "players.head()"
   ]
  },
  {
   "cell_type": "code",
   "execution_count": 11,
   "id": "8ebe1c19-2854-462f-8804-923ad9fd71d3",
   "metadata": {},
   "outputs": [
    {
     "name": "stdout",
     "output_type": "stream",
     "text": [
      "<class 'pandas.core.frame.DataFrame'>\n",
      "RangeIndex: 53805 entries, 0 to 53804\n",
      "Data columns (total 8 columns):\n",
      " #   Column          Non-Null Count  Dtype  \n",
      "---  ------          --------------  -----  \n",
      " 0   burners         53805 non-null  object \n",
      " 1   burnerParent    53805 non-null  object \n",
      " 2   totalWins       53805 non-null  float64\n",
      " 3   totalLosses     53805 non-null  float64\n",
      " 4   totalGasEarned  53805 non-null  float64\n",
      " 5   totalGasLost    53805 non-null  float64\n",
      " 6   totalGames      53805 non-null  float64\n",
      " 7   totalRevenue    53805 non-null  float64\n",
      "dtypes: float64(6), object(2)\n",
      "memory usage: 3.3+ MB\n"
     ]
    }
   ],
   "source": [
    "players.info()"
   ]
  },
  {
   "cell_type": "code",
   "execution_count": 13,
   "id": "a411f3d0-dd41-47c1-8981-970b724d2f9d",
   "metadata": {},
   "outputs": [],
   "source": [
    "diffs = pd.read_pickle(os.path.join(DATA_FOLDER_PATH,\"diff\",\"diff.pkl\"))"
   ]
  },
  {
   "cell_type": "code",
   "execution_count": 14,
   "id": "2be209a7-d13c-4c9a-8d02-026ac7432ac5",
   "metadata": {},
   "outputs": [
    {
     "data": {
      "text/html": [
       "<div>\n",
       "<style scoped>\n",
       "    .dataframe tbody tr th:only-of-type {\n",
       "        vertical-align: middle;\n",
       "    }\n",
       "\n",
       "    .dataframe tbody tr th {\n",
       "        vertical-align: top;\n",
       "    }\n",
       "\n",
       "    .dataframe thead th {\n",
       "        text-align: right;\n",
       "    }\n",
       "</style>\n",
       "<table border=\"1\" class=\"dataframe\">\n",
       "  <thead>\n",
       "    <tr style=\"text-align: right;\">\n",
       "      <th></th>\n",
       "      <th>burners</th>\n",
       "      <th>burnerParent</th>\n",
       "      <th>totalWins</th>\n",
       "      <th>totalLosses</th>\n",
       "      <th>totalGasEarned</th>\n",
       "      <th>totalGasLost</th>\n",
       "      <th>totalGames</th>\n",
       "      <th>totalRevenue</th>\n",
       "    </tr>\n",
       "  </thead>\n",
       "  <tbody>\n",
       "    <tr>\n",
       "      <th>0</th>\n",
       "      <td>0x0002E146daCa67C836cE258E6518eA194CEf583A</td>\n",
       "      <td>0x23296915893ceeD47b13Fd65b91640406FD362bf</td>\n",
       "      <td>0</td>\n",
       "      <td>0</td>\n",
       "      <td>0</td>\n",
       "      <td>0</td>\n",
       "      <td>0</td>\n",
       "      <td>0</td>\n",
       "    </tr>\n",
       "    <tr>\n",
       "      <th>1</th>\n",
       "      <td>0x0006a0967A2AB2f6183B5c4869eF54d609415157</td>\n",
       "      <td>0x0000000000000000000000000000000000000000</td>\n",
       "      <td>0</td>\n",
       "      <td>0</td>\n",
       "      <td>0</td>\n",
       "      <td>0</td>\n",
       "      <td>0</td>\n",
       "      <td>0</td>\n",
       "    </tr>\n",
       "    <tr>\n",
       "      <th>2</th>\n",
       "      <td>0x000F37e3f9b750b70D8E68039a0545A616909Fb7</td>\n",
       "      <td>0x4c39B9178F7b0c0841F8b0C666D0a2eea952a384</td>\n",
       "      <td>0</td>\n",
       "      <td>0</td>\n",
       "      <td>0</td>\n",
       "      <td>0</td>\n",
       "      <td>0</td>\n",
       "      <td>0</td>\n",
       "    </tr>\n",
       "    <tr>\n",
       "      <th>3</th>\n",
       "      <td>0x000bbF0230CF989E24273986477fd3883FbC6705</td>\n",
       "      <td>0x6A24032672C4b3A8d4118477E8B0b59441f4AD4C</td>\n",
       "      <td>0</td>\n",
       "      <td>0</td>\n",
       "      <td>0</td>\n",
       "      <td>0</td>\n",
       "      <td>0</td>\n",
       "      <td>0</td>\n",
       "    </tr>\n",
       "    <tr>\n",
       "      <th>4</th>\n",
       "      <td>0x00149e4A3C719d660EA478033a0144a11092AC7a</td>\n",
       "      <td>0x3219447d0E2943BCeC9fE306c7aB6dC911400c90</td>\n",
       "      <td>0</td>\n",
       "      <td>0</td>\n",
       "      <td>0</td>\n",
       "      <td>0</td>\n",
       "      <td>0</td>\n",
       "      <td>0</td>\n",
       "    </tr>\n",
       "  </tbody>\n",
       "</table>\n",
       "</div>"
      ],
      "text/plain": [
       "                                      burners  \\\n",
       "0  0x0002E146daCa67C836cE258E6518eA194CEf583A   \n",
       "1  0x0006a0967A2AB2f6183B5c4869eF54d609415157   \n",
       "2  0x000F37e3f9b750b70D8E68039a0545A616909Fb7   \n",
       "3  0x000bbF0230CF989E24273986477fd3883FbC6705   \n",
       "4  0x00149e4A3C719d660EA478033a0144a11092AC7a   \n",
       "\n",
       "                                 burnerParent  totalWins  totalLosses  \\\n",
       "0  0x23296915893ceeD47b13Fd65b91640406FD362bf          0            0   \n",
       "1  0x0000000000000000000000000000000000000000          0            0   \n",
       "2  0x4c39B9178F7b0c0841F8b0C666D0a2eea952a384          0            0   \n",
       "3  0x6A24032672C4b3A8d4118477E8B0b59441f4AD4C          0            0   \n",
       "4  0x3219447d0E2943BCeC9fE306c7aB6dC911400c90          0            0   \n",
       "\n",
       "   totalGasEarned  totalGasLost  totalGames  totalRevenue  \n",
       "0               0             0           0             0  \n",
       "1               0             0           0             0  \n",
       "2               0             0           0             0  \n",
       "3               0             0           0             0  \n",
       "4               0             0           0             0  "
      ]
     },
     "execution_count": 14,
     "metadata": {},
     "output_type": "execute_result"
    }
   ],
   "source": [
    "diffs.head()"
   ]
  },
  {
   "cell_type": "code",
   "execution_count": 15,
   "id": "7a797041-b3a0-4fcc-bab9-9b6b1516002f",
   "metadata": {},
   "outputs": [
    {
     "name": "stdout",
     "output_type": "stream",
     "text": [
      "<class 'pandas.core.frame.DataFrame'>\n",
      "RangeIndex: 24601 entries, 0 to 24600\n",
      "Data columns (total 8 columns):\n",
      " #   Column          Non-Null Count  Dtype \n",
      "---  ------          --------------  ----- \n",
      " 0   burners         24601 non-null  object\n",
      " 1   burnerParent    24601 non-null  object\n",
      " 2   totalWins       24601 non-null  int64 \n",
      " 3   totalLosses     24601 non-null  int64 \n",
      " 4   totalGasEarned  24601 non-null  int64 \n",
      " 5   totalGasLost    24601 non-null  int64 \n",
      " 6   totalGames      24601 non-null  int64 \n",
      " 7   totalRevenue    24601 non-null  int64 \n",
      "dtypes: int64(6), object(2)\n",
      "memory usage: 1.5+ MB\n"
     ]
    }
   ],
   "source": [
    "diffs.info()"
   ]
  },
  {
   "cell_type": "code",
   "execution_count": 16,
   "id": "017838f6-9171-4291-bf78-9271958c39e1",
   "metadata": {},
   "outputs": [
    {
     "data": {
      "text/html": [
       "<div>\n",
       "<style scoped>\n",
       "    .dataframe tbody tr th:only-of-type {\n",
       "        vertical-align: middle;\n",
       "    }\n",
       "\n",
       "    .dataframe tbody tr th {\n",
       "        vertical-align: top;\n",
       "    }\n",
       "\n",
       "    .dataframe thead th {\n",
       "        text-align: right;\n",
       "    }\n",
       "</style>\n",
       "<table border=\"1\" class=\"dataframe\">\n",
       "  <thead>\n",
       "    <tr style=\"text-align: right;\">\n",
       "      <th></th>\n",
       "      <th>burners</th>\n",
       "      <th>burnerParent</th>\n",
       "      <th>totalWins</th>\n",
       "      <th>totalLosses</th>\n",
       "      <th>totalGasEarned</th>\n",
       "      <th>totalGasLost</th>\n",
       "      <th>totalGames</th>\n",
       "      <th>totalRevenue</th>\n",
       "    </tr>\n",
       "  </thead>\n",
       "  <tbody>\n",
       "    <tr>\n",
       "      <th>0</th>\n",
       "      <td>0x3b44a30f9c125efC059caCb44f9Bbe2e3Fd94DFC</td>\n",
       "      <td>0xB32970743a239397e9cfe02a1D86eb4B734098DB</td>\n",
       "      <td>103.0</td>\n",
       "      <td>143.0</td>\n",
       "      <td>10.476</td>\n",
       "      <td>14.3</td>\n",
       "      <td>246.0</td>\n",
       "      <td>-3.824</td>\n",
       "    </tr>\n",
       "    <tr>\n",
       "      <th>1</th>\n",
       "      <td>0x4c0aBC4242e72Ae4c1431267e7Ab9EFfb516F1e9</td>\n",
       "      <td>0x03CE28D064cBFAcD218E37481AfC4606FcB518B4</td>\n",
       "      <td>13.0</td>\n",
       "      <td>129.0</td>\n",
       "      <td>3.698</td>\n",
       "      <td>12.9</td>\n",
       "      <td>142.0</td>\n",
       "      <td>-9.202</td>\n",
       "    </tr>\n",
       "    <tr>\n",
       "      <th>2</th>\n",
       "      <td>0x3FE255c4d125290977f5583F849040416CCE938c</td>\n",
       "      <td>0xE830F2785E2C4abbE8B9BCA738Efd6DE50D0CB86</td>\n",
       "      <td>33.0</td>\n",
       "      <td>58.0</td>\n",
       "      <td>3.364</td>\n",
       "      <td>5.8</td>\n",
       "      <td>91.0</td>\n",
       "      <td>-2.436</td>\n",
       "    </tr>\n",
       "    <tr>\n",
       "      <th>3</th>\n",
       "      <td>0x44a1Eb48c93B6297Dbf43B8896A2e793610B756d</td>\n",
       "      <td>0x512F753e1bF0b846de1FCdEbCEecab1CEa603E6d</td>\n",
       "      <td>31.0</td>\n",
       "      <td>43.0</td>\n",
       "      <td>3.172</td>\n",
       "      <td>4.3</td>\n",
       "      <td>74.0</td>\n",
       "      <td>-1.128</td>\n",
       "    </tr>\n",
       "    <tr>\n",
       "      <th>4</th>\n",
       "      <td>0x7141Bd2E038cc89E8D3c4dA6d87740949dF40212</td>\n",
       "      <td>0x7A1f11FF4d3a14452090b28Ea09Fe40F0cA94f81</td>\n",
       "      <td>16.0</td>\n",
       "      <td>41.0</td>\n",
       "      <td>2.124</td>\n",
       "      <td>4.1</td>\n",
       "      <td>57.0</td>\n",
       "      <td>-1.976</td>\n",
       "    </tr>\n",
       "  </tbody>\n",
       "</table>\n",
       "</div>"
      ],
      "text/plain": [
       "                                      burners  \\\n",
       "0  0x3b44a30f9c125efC059caCb44f9Bbe2e3Fd94DFC   \n",
       "1  0x4c0aBC4242e72Ae4c1431267e7Ab9EFfb516F1e9   \n",
       "2  0x3FE255c4d125290977f5583F849040416CCE938c   \n",
       "3  0x44a1Eb48c93B6297Dbf43B8896A2e793610B756d   \n",
       "4  0x7141Bd2E038cc89E8D3c4dA6d87740949dF40212   \n",
       "\n",
       "                                 burnerParent  totalWins  totalLosses  \\\n",
       "0  0xB32970743a239397e9cfe02a1D86eb4B734098DB      103.0        143.0   \n",
       "1  0x03CE28D064cBFAcD218E37481AfC4606FcB518B4       13.0        129.0   \n",
       "2  0xE830F2785E2C4abbE8B9BCA738Efd6DE50D0CB86       33.0         58.0   \n",
       "3  0x512F753e1bF0b846de1FCdEbCEecab1CEa603E6d       31.0         43.0   \n",
       "4  0x7A1f11FF4d3a14452090b28Ea09Fe40F0cA94f81       16.0         41.0   \n",
       "\n",
       "   totalGasEarned  totalGasLost  totalGames  totalRevenue  \n",
       "0          10.476          14.3       246.0        -3.824  \n",
       "1           3.698          12.9       142.0        -9.202  \n",
       "2           3.364           5.8        91.0        -2.436  \n",
       "3           3.172           4.3        74.0        -1.128  \n",
       "4           2.124           4.1        57.0        -1.976  "
      ]
     },
     "execution_count": 16,
     "metadata": {},
     "output_type": "execute_result"
    }
   ],
   "source": [
    "combineDf = pd.concat([players,diffs])\n",
    "combineDf.head()"
   ]
  },
  {
   "cell_type": "code",
   "execution_count": 17,
   "id": "4cf40e2f-d6ba-4bab-ba84-0acd7215bc4b",
   "metadata": {},
   "outputs": [],
   "source": [
    "combineDf.drop_duplicates(subset=\"burners\",inplace=True)"
   ]
  },
  {
   "cell_type": "code",
   "execution_count": 18,
   "id": "fe260126-1091-460c-9b8a-9d6967acfa1b",
   "metadata": {},
   "outputs": [],
   "source": [
    "combineDf.reset_index(drop=True, inplace=True)"
   ]
  },
  {
   "cell_type": "code",
   "execution_count": 19,
   "id": "02f00e81-caea-46d1-9303-4f2b332ab337",
   "metadata": {},
   "outputs": [
    {
     "data": {
      "text/html": [
       "<div>\n",
       "<style scoped>\n",
       "    .dataframe tbody tr th:only-of-type {\n",
       "        vertical-align: middle;\n",
       "    }\n",
       "\n",
       "    .dataframe tbody tr th {\n",
       "        vertical-align: top;\n",
       "    }\n",
       "\n",
       "    .dataframe thead th {\n",
       "        text-align: right;\n",
       "    }\n",
       "</style>\n",
       "<table border=\"1\" class=\"dataframe\">\n",
       "  <thead>\n",
       "    <tr style=\"text-align: right;\">\n",
       "      <th></th>\n",
       "      <th>burners</th>\n",
       "      <th>burnerParent</th>\n",
       "      <th>totalWins</th>\n",
       "      <th>totalLosses</th>\n",
       "      <th>totalGasEarned</th>\n",
       "      <th>totalGasLost</th>\n",
       "      <th>totalGames</th>\n",
       "      <th>totalRevenue</th>\n",
       "    </tr>\n",
       "  </thead>\n",
       "  <tbody>\n",
       "    <tr>\n",
       "      <th>0</th>\n",
       "      <td>0x3b44a30f9c125efC059caCb44f9Bbe2e3Fd94DFC</td>\n",
       "      <td>0xB32970743a239397e9cfe02a1D86eb4B734098DB</td>\n",
       "      <td>103.0</td>\n",
       "      <td>143.0</td>\n",
       "      <td>10.476</td>\n",
       "      <td>14.3</td>\n",
       "      <td>246.0</td>\n",
       "      <td>-3.824</td>\n",
       "    </tr>\n",
       "    <tr>\n",
       "      <th>1</th>\n",
       "      <td>0x4c0aBC4242e72Ae4c1431267e7Ab9EFfb516F1e9</td>\n",
       "      <td>0x03CE28D064cBFAcD218E37481AfC4606FcB518B4</td>\n",
       "      <td>13.0</td>\n",
       "      <td>129.0</td>\n",
       "      <td>3.698</td>\n",
       "      <td>12.9</td>\n",
       "      <td>142.0</td>\n",
       "      <td>-9.202</td>\n",
       "    </tr>\n",
       "    <tr>\n",
       "      <th>2</th>\n",
       "      <td>0x3FE255c4d125290977f5583F849040416CCE938c</td>\n",
       "      <td>0xE830F2785E2C4abbE8B9BCA738Efd6DE50D0CB86</td>\n",
       "      <td>33.0</td>\n",
       "      <td>58.0</td>\n",
       "      <td>3.364</td>\n",
       "      <td>5.8</td>\n",
       "      <td>91.0</td>\n",
       "      <td>-2.436</td>\n",
       "    </tr>\n",
       "    <tr>\n",
       "      <th>3</th>\n",
       "      <td>0x44a1Eb48c93B6297Dbf43B8896A2e793610B756d</td>\n",
       "      <td>0x512F753e1bF0b846de1FCdEbCEecab1CEa603E6d</td>\n",
       "      <td>31.0</td>\n",
       "      <td>43.0</td>\n",
       "      <td>3.172</td>\n",
       "      <td>4.3</td>\n",
       "      <td>74.0</td>\n",
       "      <td>-1.128</td>\n",
       "    </tr>\n",
       "    <tr>\n",
       "      <th>4</th>\n",
       "      <td>0x7141Bd2E038cc89E8D3c4dA6d87740949dF40212</td>\n",
       "      <td>0x7A1f11FF4d3a14452090b28Ea09Fe40F0cA94f81</td>\n",
       "      <td>16.0</td>\n",
       "      <td>41.0</td>\n",
       "      <td>2.124</td>\n",
       "      <td>4.1</td>\n",
       "      <td>57.0</td>\n",
       "      <td>-1.976</td>\n",
       "    </tr>\n",
       "  </tbody>\n",
       "</table>\n",
       "</div>"
      ],
      "text/plain": [
       "                                      burners  \\\n",
       "0  0x3b44a30f9c125efC059caCb44f9Bbe2e3Fd94DFC   \n",
       "1  0x4c0aBC4242e72Ae4c1431267e7Ab9EFfb516F1e9   \n",
       "2  0x3FE255c4d125290977f5583F849040416CCE938c   \n",
       "3  0x44a1Eb48c93B6297Dbf43B8896A2e793610B756d   \n",
       "4  0x7141Bd2E038cc89E8D3c4dA6d87740949dF40212   \n",
       "\n",
       "                                 burnerParent  totalWins  totalLosses  \\\n",
       "0  0xB32970743a239397e9cfe02a1D86eb4B734098DB      103.0        143.0   \n",
       "1  0x03CE28D064cBFAcD218E37481AfC4606FcB518B4       13.0        129.0   \n",
       "2  0xE830F2785E2C4abbE8B9BCA738Efd6DE50D0CB86       33.0         58.0   \n",
       "3  0x512F753e1bF0b846de1FCdEbCEecab1CEa603E6d       31.0         43.0   \n",
       "4  0x7A1f11FF4d3a14452090b28Ea09Fe40F0cA94f81       16.0         41.0   \n",
       "\n",
       "   totalGasEarned  totalGasLost  totalGames  totalRevenue  \n",
       "0          10.476          14.3       246.0        -3.824  \n",
       "1           3.698          12.9       142.0        -9.202  \n",
       "2           3.364           5.8        91.0        -2.436  \n",
       "3           3.172           4.3        74.0        -1.128  \n",
       "4           2.124           4.1        57.0        -1.976  "
      ]
     },
     "execution_count": 19,
     "metadata": {},
     "output_type": "execute_result"
    }
   ],
   "source": [
    "combineDf.head()"
   ]
  },
  {
   "cell_type": "code",
   "execution_count": 20,
   "id": "3da97fac-5e13-47ae-8928-e49edc77d49c",
   "metadata": {},
   "outputs": [
    {
     "name": "stdout",
     "output_type": "stream",
     "text": [
      "<class 'pandas.core.frame.DataFrame'>\n",
      "RangeIndex: 78406 entries, 0 to 78405\n",
      "Data columns (total 8 columns):\n",
      " #   Column          Non-Null Count  Dtype  \n",
      "---  ------          --------------  -----  \n",
      " 0   burners         78406 non-null  object \n",
      " 1   burnerParent    78406 non-null  object \n",
      " 2   totalWins       78406 non-null  float64\n",
      " 3   totalLosses     78406 non-null  float64\n",
      " 4   totalGasEarned  78406 non-null  float64\n",
      " 5   totalGasLost    78406 non-null  float64\n",
      " 6   totalGames      78406 non-null  float64\n",
      " 7   totalRevenue    78406 non-null  float64\n",
      "dtypes: float64(6), object(2)\n",
      "memory usage: 4.8+ MB\n"
     ]
    }
   ],
   "source": [
    "combineDf.info()"
   ]
  },
  {
   "cell_type": "code",
   "execution_count": 21,
   "id": "bb738c4b-2fa6-4ad6-bf70-80d264089259",
   "metadata": {},
   "outputs": [],
   "source": [
    "combineDf.to_csv(\"burners281023b.csv\",index=False)\n",
    "combineDf.to_pickle(\"burners281023b.pkl\")"
   ]
  },
  {
   "cell_type": "code",
   "execution_count": 19,
   "id": "e199954c-9340-4798-bd47-95e9a7f3cd89",
   "metadata": {},
   "outputs": [],
   "source": [
    "players = combineDf"
   ]
  },
  {
   "cell_type": "code",
   "execution_count": 20,
   "id": "4452c74f-80db-447a-bfbd-a7720eaf0f66",
   "metadata": {},
   "outputs": [
    {
     "name": "stdout",
     "output_type": "stream",
     "text": [
      "<class 'pandas.core.frame.DataFrame'>\n",
      "RangeIndex: 50518 entries, 0 to 50517\n",
      "Data columns (total 8 columns):\n",
      " #   Column          Non-Null Count  Dtype  \n",
      "---  ------          --------------  -----  \n",
      " 0   burners         50518 non-null  object \n",
      " 1   burnerParent    50518 non-null  object \n",
      " 2   totalWins       50518 non-null  float64\n",
      " 3   totalLosses     50518 non-null  float64\n",
      " 4   totalGasEarned  50518 non-null  float64\n",
      " 5   totalGasLost    50518 non-null  float64\n",
      " 6   totalGames      50518 non-null  float64\n",
      " 7   totalRevenue    50518 non-null  float64\n",
      "dtypes: float64(6), object(2)\n",
      "memory usage: 3.1+ MB\n"
     ]
    }
   ],
   "source": [
    "players.info()"
   ]
  },
  {
   "cell_type": "code",
   "execution_count": 10,
   "id": "003db84f-8440-48c8-9fb1-5d0150322495",
   "metadata": {},
   "outputs": [],
   "source": [
    "with open(os.path.join(STREAMLIT_FOLDER_PATH,\"GameEnded.json\")) as royaleJson:\n",
    "        #with bucket.blob(eventName+\".json\").open(\"r\") as royaleJson:\n",
    "            gameEndedJson = json.loads(royaleJson.read())"
   ]
  },
  {
   "cell_type": "code",
   "execution_count": 11,
   "id": "08b83190-2b2a-49d0-8d57-170aea7cd38f",
   "metadata": {},
   "outputs": [],
   "source": [
    "gameEnded = pd.DataFrame([event for _, d in gameEndedJson.get(\"blocks\").items() for hash, \n",
    "                        txn in d.items() for i, event in txn.items()])"
   ]
  },
  {
   "cell_type": "code",
   "execution_count": 12,
   "id": "2fe8bbe4-69fa-4a68-a44c-cea6966d4a14",
   "metadata": {},
   "outputs": [
    {
     "name": "stdout",
     "output_type": "stream",
     "text": [
      "97590\n"
     ]
    },
    {
     "data": {
      "text/plain": [
       "array(['0x8A2FA09530F858D2B064d5539aa755E8b901033a',\n",
       "       '0xD938fFd07F56087aE52E1C1D9036E587C568597f',\n",
       "       '0x0aCf75e7C29bd27f1CD6Ed47c8769c61Bc6a6881', ...,\n",
       "       '0x8C594F19a914BD1491B6bc29E9bf48c9030e1F6a',\n",
       "       '0xC395CA18bE3De680F994d6a66B4077D50192e820',\n",
       "       '0xc9e128D44c70Fece4a2CFdFA554B96f35f7aA741'], dtype=object)"
      ]
     },
     "execution_count": 12,
     "metadata": {},
     "output_type": "execute_result"
    }
   ],
   "source": [
    "print(len(gameEnded._winner.values))\n",
    "gameEnded._winner.values"
   ]
  },
  {
   "cell_type": "code",
   "execution_count": 16,
   "id": "5716ef22-e1f5-41b0-9c3b-3ebed39ed243",
   "metadata": {},
   "outputs": [],
   "source": [
    "with open(os.path.join(STREAMLIT_FOLDER_PATH,\"PlayerKilled.json\")) as royaleJson:\n",
    "        #with bucket.blob(eventName+\".json\").open(\"r\") as royaleJson:\n",
    "            playerKilledJson = json.loads(royaleJson.read())"
   ]
  },
  {
   "cell_type": "code",
   "execution_count": 14,
   "id": "60ca1be8-39f7-4d0f-a420-c0106f838ea5",
   "metadata": {},
   "outputs": [],
   "source": [
    "pKilled = pd.DataFrame([event for _, d in playerKilledJson.get(\"blocks\").items() for hash, \n",
    "                        txn in d.items() for i, event in txn.items()])"
   ]
  },
  {
   "cell_type": "code",
   "execution_count": 15,
   "id": "e3972597-d322-451b-a710-9f40e60f22ab",
   "metadata": {},
   "outputs": [
    {
     "name": "stdout",
     "output_type": "stream",
     "text": [
      "169213\n"
     ]
    },
    {
     "data": {
      "text/plain": [
       "array(['0x6c228b26bC8AA19a486380E80f18784123d3D0a0',\n",
       "       '0xF2aa741cAfe1E8D2a244A281d0fDE100DB2111fD',\n",
       "       '0x22e9d23d61f0bF4922aB96bD40c461234B155743', ...,\n",
       "       '0x1fC8B55b464adD24408e6b5E29C42D30baDe067f',\n",
       "       '0xc92Ea0Fa32A82F55013d407cD0c7a1C98B8769aE',\n",
       "       '0x1575d45AFCC19B676796581CcA8d02D4AB92F38D'], dtype=object)"
      ]
     },
     "execution_count": 15,
     "metadata": {},
     "output_type": "execute_result"
    }
   ],
   "source": [
    "print(len(pKilled._player.values))\n",
    "pKilled._player.values"
   ]
  },
  {
   "cell_type": "code",
   "execution_count": 17,
   "id": "c9cf56c8-0206-4fae-aa68-dd81a2aeceb2",
   "metadata": {},
   "outputs": [
    {
     "name": "stdout",
     "output_type": "stream",
     "text": [
      "266803\n"
     ]
    },
    {
     "data": {
      "text/plain": [
       "array(['0x6c228b26bC8AA19a486380E80f18784123d3D0a0',\n",
       "       '0xF2aa741cAfe1E8D2a244A281d0fDE100DB2111fD',\n",
       "       '0x22e9d23d61f0bF4922aB96bD40c461234B155743', ...,\n",
       "       '0x8C594F19a914BD1491B6bc29E9bf48c9030e1F6a',\n",
       "       '0xC395CA18bE3De680F994d6a66B4077D50192e820',\n",
       "       '0xc9e128D44c70Fece4a2CFdFA554B96f35f7aA741'], dtype=object)"
      ]
     },
     "execution_count": 17,
     "metadata": {},
     "output_type": "execute_result"
    }
   ],
   "source": [
    "all_scraped_burners = np.append(pKilled._player.values, gameEnded._winner.values)\n",
    "print(len(all_scraped_burners))\n",
    "all_scraped_burners"
   ]
  },
  {
   "cell_type": "code",
   "execution_count": 18,
   "id": "b90c9b5b-8534-4de9-9949-12913ce7c811",
   "metadata": {},
   "outputs": [
    {
     "name": "stdout",
     "output_type": "stream",
     "text": [
      "78401\n"
     ]
    },
    {
     "data": {
      "text/plain": [
       "array(['0x00000002f32C0886eE65D68059Fbdb76EF6A6996',\n",
       "       '0x0000005E1f4EC3CbE90a8705624AA5396E221394',\n",
       "       '0x0000040f1111c5C3d2037940658Ee770BB37e0a2', ...,\n",
       "       '0xfff64347cbF5Cbc5b608E51eAC72D3d38f441b0a',\n",
       "       '0xfff724f5AfFA86B506C15fa0082F502F1f9272C4',\n",
       "       '0xfffc28211D0937a0146E69766e2C9b60Ec940832'], dtype=object)"
      ]
     },
     "execution_count": 18,
     "metadata": {},
     "output_type": "execute_result"
    }
   ],
   "source": [
    "unique_scraped = np.unique(all_scraped_burners)\n",
    "print(len(unique_scraped))\n",
    "unique_scraped"
   ]
  },
  {
   "cell_type": "code",
   "execution_count": 19,
   "id": "0be1e614-d312-4f22-82f8-e9e8840a1aaa",
   "metadata": {},
   "outputs": [
    {
     "name": "stdout",
     "output_type": "stream",
     "text": [
      "24601\n"
     ]
    },
    {
     "data": {
      "text/plain": [
       "array(['0x0002E146daCa67C836cE258E6518eA194CEf583A',\n",
       "       '0x0006a0967A2AB2f6183B5c4869eF54d609415157',\n",
       "       '0x000F37e3f9b750b70D8E68039a0545A616909Fb7', ...,\n",
       "       '0xffb22fB6a4D8A777E395E96e52f6B4aA9A165EA3',\n",
       "       '0xffcc31474063580FC2A9237028C7d637f75EcE22',\n",
       "       '0xfff724f5AfFA86B506C15fa0082F502F1f9272C4'], dtype=object)"
      ]
     },
     "execution_count": 19,
     "metadata": {},
     "output_type": "execute_result"
    }
   ],
   "source": [
    "set_diff = np.setdiff1d(unique_scraped, players[\"burners\"])\n",
    "print(len(set_diff))\n",
    "set_diff"
   ]
  },
  {
   "cell_type": "code",
   "execution_count": 20,
   "id": "8a538ad7-6a00-46cd-a5d3-796efea8e6cd",
   "metadata": {},
   "outputs": [],
   "source": [
    "wrongset = np.setdiff1d(players[\"burners\"], unique_scraped)"
   ]
  },
  {
   "cell_type": "code",
   "execution_count": 21,
   "id": "399931cf-86b2-48d3-afd6-830bbe8909e4",
   "metadata": {},
   "outputs": [
    {
     "name": "stdout",
     "output_type": "stream",
     "text": [
      "5\n"
     ]
    }
   ],
   "source": [
    "print(len(wrongset))"
   ]
  },
  {
   "cell_type": "code",
   "execution_count": 20,
   "id": "163c2b6c-e6f6-49e7-aec9-7cbefc20cf22",
   "metadata": {},
   "outputs": [],
   "source": [
    "dfSetDiff = pd.DataFrame(set_diff)\n",
    "dfSetDiff.rename(columns = {0:'burners'}, inplace = True)\n",
    "dfSetDiff[\"burnerParent\"] = \"0x0000000000000000000000000000000000000000\"\n",
    "dfSetDiff[\"totalWins\"]=0\n",
    "dfSetDiff[\"totalLosses\"]=0\n",
    "dfSetDiff[\"totalGasEarned\"]=0\n",
    "dfSetDiff[\"totalGasLost\"]=0\n",
    "dfSetDiff[\"totalGames\"]=0\n",
    "dfSetDiff[\"totalRevenue\"]=0"
   ]
  },
  {
   "cell_type": "code",
   "execution_count": 21,
   "id": "6b8e17f4-fca7-4354-936a-eb09ceeed736",
   "metadata": {},
   "outputs": [
    {
     "data": {
      "text/html": [
       "<div>\n",
       "<style scoped>\n",
       "    .dataframe tbody tr th:only-of-type {\n",
       "        vertical-align: middle;\n",
       "    }\n",
       "\n",
       "    .dataframe tbody tr th {\n",
       "        vertical-align: top;\n",
       "    }\n",
       "\n",
       "    .dataframe thead th {\n",
       "        text-align: right;\n",
       "    }\n",
       "</style>\n",
       "<table border=\"1\" class=\"dataframe\">\n",
       "  <thead>\n",
       "    <tr style=\"text-align: right;\">\n",
       "      <th></th>\n",
       "      <th>burners</th>\n",
       "      <th>burnerParent</th>\n",
       "      <th>totalWins</th>\n",
       "      <th>totalLosses</th>\n",
       "      <th>totalGasEarned</th>\n",
       "      <th>totalGasLost</th>\n",
       "      <th>totalGames</th>\n",
       "      <th>totalRevenue</th>\n",
       "    </tr>\n",
       "  </thead>\n",
       "  <tbody>\n",
       "    <tr>\n",
       "      <th>0</th>\n",
       "      <td>0x0002E146daCa67C836cE258E6518eA194CEf583A</td>\n",
       "      <td>0x0000000000000000000000000000000000000000</td>\n",
       "      <td>0</td>\n",
       "      <td>0</td>\n",
       "      <td>0</td>\n",
       "      <td>0</td>\n",
       "      <td>0</td>\n",
       "      <td>0</td>\n",
       "    </tr>\n",
       "    <tr>\n",
       "      <th>1</th>\n",
       "      <td>0x0006a0967A2AB2f6183B5c4869eF54d609415157</td>\n",
       "      <td>0x0000000000000000000000000000000000000000</td>\n",
       "      <td>0</td>\n",
       "      <td>0</td>\n",
       "      <td>0</td>\n",
       "      <td>0</td>\n",
       "      <td>0</td>\n",
       "      <td>0</td>\n",
       "    </tr>\n",
       "    <tr>\n",
       "      <th>2</th>\n",
       "      <td>0x000F37e3f9b750b70D8E68039a0545A616909Fb7</td>\n",
       "      <td>0x0000000000000000000000000000000000000000</td>\n",
       "      <td>0</td>\n",
       "      <td>0</td>\n",
       "      <td>0</td>\n",
       "      <td>0</td>\n",
       "      <td>0</td>\n",
       "      <td>0</td>\n",
       "    </tr>\n",
       "    <tr>\n",
       "      <th>3</th>\n",
       "      <td>0x000bbF0230CF989E24273986477fd3883FbC6705</td>\n",
       "      <td>0x0000000000000000000000000000000000000000</td>\n",
       "      <td>0</td>\n",
       "      <td>0</td>\n",
       "      <td>0</td>\n",
       "      <td>0</td>\n",
       "      <td>0</td>\n",
       "      <td>0</td>\n",
       "    </tr>\n",
       "    <tr>\n",
       "      <th>4</th>\n",
       "      <td>0x00149e4A3C719d660EA478033a0144a11092AC7a</td>\n",
       "      <td>0x0000000000000000000000000000000000000000</td>\n",
       "      <td>0</td>\n",
       "      <td>0</td>\n",
       "      <td>0</td>\n",
       "      <td>0</td>\n",
       "      <td>0</td>\n",
       "      <td>0</td>\n",
       "    </tr>\n",
       "  </tbody>\n",
       "</table>\n",
       "</div>"
      ],
      "text/plain": [
       "                                      burners  \\\n",
       "0  0x0002E146daCa67C836cE258E6518eA194CEf583A   \n",
       "1  0x0006a0967A2AB2f6183B5c4869eF54d609415157   \n",
       "2  0x000F37e3f9b750b70D8E68039a0545A616909Fb7   \n",
       "3  0x000bbF0230CF989E24273986477fd3883FbC6705   \n",
       "4  0x00149e4A3C719d660EA478033a0144a11092AC7a   \n",
       "\n",
       "                                 burnerParent  totalWins  totalLosses  \\\n",
       "0  0x0000000000000000000000000000000000000000          0            0   \n",
       "1  0x0000000000000000000000000000000000000000          0            0   \n",
       "2  0x0000000000000000000000000000000000000000          0            0   \n",
       "3  0x0000000000000000000000000000000000000000          0            0   \n",
       "4  0x0000000000000000000000000000000000000000          0            0   \n",
       "\n",
       "   totalGasEarned  totalGasLost  totalGames  totalRevenue  \n",
       "0               0             0           0             0  \n",
       "1               0             0           0             0  \n",
       "2               0             0           0             0  \n",
       "3               0             0           0             0  \n",
       "4               0             0           0             0  "
      ]
     },
     "execution_count": 21,
     "metadata": {},
     "output_type": "execute_result"
    }
   ],
   "source": [
    "dfSetDiff.head()"
   ]
  },
  {
   "cell_type": "code",
   "execution_count": 22,
   "id": "8a37c6dd-5892-433b-ad56-ee768b948797",
   "metadata": {},
   "outputs": [],
   "source": [
    "dfSetDiff.to_pickle(\"setDiff281023b.pkl\")\n",
    "dfSetDiff.to_csv(\"setDiff281023b.csv\", index=False)"
   ]
  },
  {
   "cell_type": "code",
   "execution_count": 23,
   "id": "c8748381-c6a8-4573-9fde-e00f2ed6acb2",
   "metadata": {},
   "outputs": [
    {
     "data": {
      "text/plain": [
       "24601"
      ]
     },
     "execution_count": 23,
     "metadata": {},
     "output_type": "execute_result"
    }
   ],
   "source": [
    "len(dfSetDiff)"
   ]
  },
  {
   "cell_type": "code",
   "execution_count": 24,
   "id": "55e1bfd0-594d-4cdf-b93e-7bf3f84b0c8b",
   "metadata": {},
   "outputs": [
    {
     "data": {
      "text/plain": [
       "53805"
      ]
     },
     "execution_count": 24,
     "metadata": {},
     "output_type": "execute_result"
    }
   ],
   "source": [
    "len(players)"
   ]
  },
  {
   "cell_type": "code",
   "execution_count": 39,
   "id": "2fb71dd0-4676-4edd-bbe8-2bf2ca707bf0",
   "metadata": {},
   "outputs": [
    {
     "name": "stdout",
     "output_type": "stream",
     "text": [
      "4393\n"
     ]
    },
    {
     "data": {
      "text/html": [
       "<div>\n",
       "<style scoped>\n",
       "    .dataframe tbody tr th:only-of-type {\n",
       "        vertical-align: middle;\n",
       "    }\n",
       "\n",
       "    .dataframe tbody tr th {\n",
       "        vertical-align: top;\n",
       "    }\n",
       "\n",
       "    .dataframe thead th {\n",
       "        text-align: right;\n",
       "    }\n",
       "</style>\n",
       "<table border=\"1\" class=\"dataframe\">\n",
       "  <thead>\n",
       "    <tr style=\"text-align: right;\">\n",
       "      <th></th>\n",
       "      <th>burners</th>\n",
       "      <th>burnerParent</th>\n",
       "      <th>totalWins</th>\n",
       "      <th>totalLosses</th>\n",
       "      <th>totalGasEarned</th>\n",
       "      <th>totalGasLost</th>\n",
       "      <th>totalGames</th>\n",
       "      <th>totalRevenue</th>\n",
       "    </tr>\n",
       "  </thead>\n",
       "  <tbody>\n",
       "    <tr>\n",
       "      <th>0</th>\n",
       "      <td>0x7b8eF2675A64fe54eF114F487F559F2b9d6073fa</td>\n",
       "      <td>0x36d4B301334EDdCf5FF9603750A81C4799Ed9f44</td>\n",
       "      <td>1.0</td>\n",
       "      <td>25.0</td>\n",
       "      <td>0.096</td>\n",
       "      <td>2.5</td>\n",
       "      <td>26.0</td>\n",
       "      <td>-2.404</td>\n",
       "    </tr>\n",
       "    <tr>\n",
       "      <th>1</th>\n",
       "      <td>0x0000005E1f4EC3CbE90a8705624AA5396E221394</td>\n",
       "      <td>0x0000000000000000000000000000000000000000</td>\n",
       "      <td>5.0</td>\n",
       "      <td>17.0</td>\n",
       "      <td>0.578</td>\n",
       "      <td>4.4</td>\n",
       "      <td>22.0</td>\n",
       "      <td>-3.822</td>\n",
       "    </tr>\n",
       "    <tr>\n",
       "      <th>2</th>\n",
       "      <td>0x931262767377D9fFe050017E3b74FfF66742015D</td>\n",
       "      <td>0x0000000000000000000000000000000000000000</td>\n",
       "      <td>8.0</td>\n",
       "      <td>13.0</td>\n",
       "      <td>0.964</td>\n",
       "      <td>1.3</td>\n",
       "      <td>21.0</td>\n",
       "      <td>-0.336</td>\n",
       "    </tr>\n",
       "    <tr>\n",
       "      <th>3</th>\n",
       "      <td>0xADbE60478f814e6bB3E1c4A69670Fae36c8C68F5</td>\n",
       "      <td>0x8650Ea8ED8D56B18087451c4E083244e8E3F3826</td>\n",
       "      <td>1.0</td>\n",
       "      <td>19.0</td>\n",
       "      <td>0.292</td>\n",
       "      <td>1.9</td>\n",
       "      <td>20.0</td>\n",
       "      <td>-1.608</td>\n",
       "    </tr>\n",
       "    <tr>\n",
       "      <th>4</th>\n",
       "      <td>0x03aB242c1D91b0Cf8bF7bb794461aD895AC3696c</td>\n",
       "      <td>0xe6BE238c591264B524b6AB65ff8Ab72f3bA4AFa1</td>\n",
       "      <td>4.0</td>\n",
       "      <td>13.0</td>\n",
       "      <td>1.168</td>\n",
       "      <td>1.3</td>\n",
       "      <td>17.0</td>\n",
       "      <td>-0.132</td>\n",
       "    </tr>\n",
       "  </tbody>\n",
       "</table>\n",
       "</div>"
      ],
      "text/plain": [
       "                                      burners  \\\n",
       "0  0x7b8eF2675A64fe54eF114F487F559F2b9d6073fa   \n",
       "1  0x0000005E1f4EC3CbE90a8705624AA5396E221394   \n",
       "2  0x931262767377D9fFe050017E3b74FfF66742015D   \n",
       "3  0xADbE60478f814e6bB3E1c4A69670Fae36c8C68F5   \n",
       "4  0x03aB242c1D91b0Cf8bF7bb794461aD895AC3696c   \n",
       "\n",
       "                                 burnerParent  totalWins  totalLosses  \\\n",
       "0  0x36d4B301334EDdCf5FF9603750A81C4799Ed9f44        1.0         25.0   \n",
       "1  0x0000000000000000000000000000000000000000        5.0         17.0   \n",
       "2  0x0000000000000000000000000000000000000000        8.0         13.0   \n",
       "3  0x8650Ea8ED8D56B18087451c4E083244e8E3F3826        1.0         19.0   \n",
       "4  0xe6BE238c591264B524b6AB65ff8Ab72f3bA4AFa1        4.0         13.0   \n",
       "\n",
       "   totalGasEarned  totalGasLost  totalGames  totalRevenue  \n",
       "0           0.096           2.5        26.0        -2.404  \n",
       "1           0.578           4.4        22.0        -3.822  \n",
       "2           0.964           1.3        21.0        -0.336  \n",
       "3           0.292           1.9        20.0        -1.608  \n",
       "4           1.168           1.3        17.0        -0.132  "
      ]
     },
     "execution_count": 39,
     "metadata": {},
     "output_type": "execute_result"
    }
   ],
   "source": [
    "players = players[~players[\"burners\"].isin(set_diff)]\n",
    "print(len(players))\n",
    "players.head()"
   ]
  },
  {
   "cell_type": "code",
   "execution_count": 40,
   "id": "6c4a99d1-9b55-48a6-8ee4-6cc5ad6741e5",
   "metadata": {},
   "outputs": [],
   "source": [
    "new_players = pd.DataFrame(set_diff, columns=[\"burners\"])"
   ]
  },
  {
   "cell_type": "code",
   "execution_count": 41,
   "id": "efcc6866-5ae3-4ceb-8787-501d7a871c2b",
   "metadata": {},
   "outputs": [],
   "source": [
    "new_players[\"burnerParent\"] = \"0x0\""
   ]
  },
  {
   "cell_type": "code",
   "execution_count": 42,
   "id": "10e2c973-5d7d-4292-93ea-954bc94d4852",
   "metadata": {},
   "outputs": [],
   "source": [
    "new_players[[\"totalWins\", \"totalLosses\", \"totalGasEarned\", \"totalGasLost\"]] = 0"
   ]
  },
  {
   "cell_type": "code",
   "execution_count": 43,
   "id": "803fcec6-31c0-4530-a08a-587201e3081b",
   "metadata": {},
   "outputs": [
    {
     "data": {
      "text/plain": [
       "14911"
      ]
     },
     "execution_count": 43,
     "metadata": {},
     "output_type": "execute_result"
    }
   ],
   "source": [
    "len(new_players)"
   ]
  },
  {
   "cell_type": "code",
   "execution_count": 44,
   "id": "0c906f1f-c292-4b46-a97d-3f61ba679be8",
   "metadata": {},
   "outputs": [
    {
     "name": "stdout",
     "output_type": "stream",
     "text": [
      "19304\n"
     ]
    },
    {
     "data": {
      "text/html": [
       "<div>\n",
       "<style scoped>\n",
       "    .dataframe tbody tr th:only-of-type {\n",
       "        vertical-align: middle;\n",
       "    }\n",
       "\n",
       "    .dataframe tbody tr th {\n",
       "        vertical-align: top;\n",
       "    }\n",
       "\n",
       "    .dataframe thead th {\n",
       "        text-align: right;\n",
       "    }\n",
       "</style>\n",
       "<table border=\"1\" class=\"dataframe\">\n",
       "  <thead>\n",
       "    <tr style=\"text-align: right;\">\n",
       "      <th></th>\n",
       "      <th>burners</th>\n",
       "      <th>burnerParent</th>\n",
       "      <th>totalWins</th>\n",
       "      <th>totalLosses</th>\n",
       "      <th>totalGasEarned</th>\n",
       "      <th>totalGasLost</th>\n",
       "      <th>totalGames</th>\n",
       "      <th>totalRevenue</th>\n",
       "    </tr>\n",
       "  </thead>\n",
       "  <tbody>\n",
       "    <tr>\n",
       "      <th>14906</th>\n",
       "      <td>0xffa87ed1477FCc96C19aecD6d802f6b0EBf2149D</td>\n",
       "      <td>0x0</td>\n",
       "      <td>0.0</td>\n",
       "      <td>0.0</td>\n",
       "      <td>0.0</td>\n",
       "      <td>0.0</td>\n",
       "      <td>NaN</td>\n",
       "      <td>NaN</td>\n",
       "    </tr>\n",
       "    <tr>\n",
       "      <th>14907</th>\n",
       "      <td>0xffe164701953742Bdb16EE071b3dc6717AEcdEd1</td>\n",
       "      <td>0x0</td>\n",
       "      <td>0.0</td>\n",
       "      <td>0.0</td>\n",
       "      <td>0.0</td>\n",
       "      <td>0.0</td>\n",
       "      <td>NaN</td>\n",
       "      <td>NaN</td>\n",
       "    </tr>\n",
       "    <tr>\n",
       "      <th>14908</th>\n",
       "      <td>0xffe9ACA61ad014dc74aBcc0A0b5fe60BccdD345E</td>\n",
       "      <td>0x0</td>\n",
       "      <td>0.0</td>\n",
       "      <td>0.0</td>\n",
       "      <td>0.0</td>\n",
       "      <td>0.0</td>\n",
       "      <td>NaN</td>\n",
       "      <td>NaN</td>\n",
       "    </tr>\n",
       "    <tr>\n",
       "      <th>14909</th>\n",
       "      <td>0xfff0d61Fa2A17e28b3e3a3BCdD0a1a48a7924F64</td>\n",
       "      <td>0x0</td>\n",
       "      <td>0.0</td>\n",
       "      <td>0.0</td>\n",
       "      <td>0.0</td>\n",
       "      <td>0.0</td>\n",
       "      <td>NaN</td>\n",
       "      <td>NaN</td>\n",
       "    </tr>\n",
       "    <tr>\n",
       "      <th>14910</th>\n",
       "      <td>0xfff28B86a90339520059202Ceb9a3564E031CF03</td>\n",
       "      <td>0x0</td>\n",
       "      <td>0.0</td>\n",
       "      <td>0.0</td>\n",
       "      <td>0.0</td>\n",
       "      <td>0.0</td>\n",
       "      <td>NaN</td>\n",
       "      <td>NaN</td>\n",
       "    </tr>\n",
       "  </tbody>\n",
       "</table>\n",
       "</div>"
      ],
      "text/plain": [
       "                                          burners burnerParent  totalWins  \\\n",
       "14906  0xffa87ed1477FCc96C19aecD6d802f6b0EBf2149D          0x0        0.0   \n",
       "14907  0xffe164701953742Bdb16EE071b3dc6717AEcdEd1          0x0        0.0   \n",
       "14908  0xffe9ACA61ad014dc74aBcc0A0b5fe60BccdD345E          0x0        0.0   \n",
       "14909  0xfff0d61Fa2A17e28b3e3a3BCdD0a1a48a7924F64          0x0        0.0   \n",
       "14910  0xfff28B86a90339520059202Ceb9a3564E031CF03          0x0        0.0   \n",
       "\n",
       "       totalLosses  totalGasEarned  totalGasLost  totalGames  totalRevenue  \n",
       "14906          0.0             0.0           0.0         NaN           NaN  \n",
       "14907          0.0             0.0           0.0         NaN           NaN  \n",
       "14908          0.0             0.0           0.0         NaN           NaN  \n",
       "14909          0.0             0.0           0.0         NaN           NaN  \n",
       "14910          0.0             0.0           0.0         NaN           NaN  "
      ]
     },
     "execution_count": 44,
     "metadata": {},
     "output_type": "execute_result"
    }
   ],
   "source": [
    "players = pd.concat([players, new_players])\n",
    "print(len(players))\n",
    "players.tail()"
   ]
  },
  {
   "cell_type": "code",
   "execution_count": 46,
   "id": "546fad7d-a30c-4ff4-8664-eb4aea4078d3",
   "metadata": {},
   "outputs": [],
   "source": [
    "players.to_csv(\"players.csv\", index=False)"
   ]
  },
  {
   "cell_type": "code",
   "execution_count": 47,
   "id": "1223ec38-0b04-4df0-accf-acde0ff20b00",
   "metadata": {},
   "outputs": [],
   "source": [
    "players.to_pickle(\"players.pkl\")"
   ]
  },
  {
   "cell_type": "code",
   "execution_count": null,
   "id": "21fc1c8a-6980-4962-8a62-f987c164dcd0",
   "metadata": {},
   "outputs": [],
   "source": []
  }
 ],
 "metadata": {
  "kernelspec": {
   "display_name": "Python 3 (ipykernel)",
   "language": "python",
   "name": "python3"
  },
  "language_info": {
   "codemirror_mode": {
    "name": "ipython",
    "version": 3
   },
   "file_extension": ".py",
   "mimetype": "text/x-python",
   "name": "python",
   "nbconvert_exporter": "python",
   "pygments_lexer": "ipython3",
   "version": "3.11.5"
  }
 },
 "nbformat": 4,
 "nbformat_minor": 5
}

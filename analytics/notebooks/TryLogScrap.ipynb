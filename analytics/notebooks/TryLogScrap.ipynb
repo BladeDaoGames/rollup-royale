{
 "cells": [
  {
   "cell_type": "code",
   "execution_count": 1,
   "id": "f06de4cb-8eb0-4326-89dc-da4c1ef54f1f",
   "metadata": {},
   "outputs": [],
   "source": [
    "import os\n",
    "import sys\n",
    "from dotenv import load_dotenv, find_dotenv"
   ]
  },
  {
   "cell_type": "code",
   "execution_count": 2,
   "id": "8cb251f7-ea26-45d3-959d-26bf179b8369",
   "metadata": {},
   "outputs": [],
   "source": [
    "from web3 import Web3, WebsocketProvider, AsyncHTTPProvider"
   ]
  },
  {
   "cell_type": "code",
   "execution_count": 3,
   "id": "eeebd71a-70fe-4fc1-b6b1-40ec7887dc83",
   "metadata": {},
   "outputs": [],
   "source": [
    "import json"
   ]
  },
  {
   "cell_type": "code",
   "execution_count": 32,
   "id": "2b86055d-872a-41c3-9be4-90ee90a6e4cd",
   "metadata": {},
   "outputs": [],
   "source": [
    "import pandas as pd\n",
    "import numpy as np"
   ]
  },
  {
   "cell_type": "code",
   "execution_count": 5,
   "id": "559c3533-fee5-4973-bbfb-319f8a1b082b",
   "metadata": {},
   "outputs": [],
   "source": [
    "SCAN_FOLDER_PATH = os.path.join(os.path.dirname(os.getcwd()), \"streamlit\",\"scan\")"
   ]
  },
  {
   "cell_type": "code",
   "execution_count": 12,
   "id": "7e13abfa-df79-4647-86be-7a1c6908b349",
   "metadata": {},
   "outputs": [],
   "source": [
    "ABI_FOLDER_PATH = os.path.join(os.path.dirname(os.getcwd()), \"streamlit\", \"abi\")"
   ]
  },
  {
   "cell_type": "code",
   "execution_count": 9,
   "id": "965fef12-abd3-4fea-bcd6-aa5214b1c5c0",
   "metadata": {},
   "outputs": [],
   "source": [
    "sys.path.append(SCAN_FOLDER_PATH)"
   ]
  },
  {
   "cell_type": "code",
   "execution_count": 11,
   "id": "99c108b6-4932-42f5-866c-95133a160cc4",
   "metadata": {},
   "outputs": [],
   "source": [
    "from scanner import getEventData"
   ]
  },
  {
   "cell_type": "code",
   "execution_count": 113,
   "id": "0274e012-3aa4-46a2-8102-575e2ca3bec5",
   "metadata": {},
   "outputs": [
    {
     "data": {
      "text/plain": [
       "True"
      ]
     },
     "execution_count": 113,
     "metadata": {},
     "output_type": "execute_result"
    }
   ],
   "source": [
    "load_dotenv(find_dotenv())"
   ]
  },
  {
   "cell_type": "code",
   "execution_count": 14,
   "id": "dbabe7b7-97d0-48bc-8b61-0f37091cc47f",
   "metadata": {},
   "outputs": [],
   "source": [
    "rpc_url = os.environ.get(\"RPC_URL\")"
   ]
  },
  {
   "cell_type": "code",
   "execution_count": 114,
   "id": "cb759093-6fae-49f7-bb25-9a33e9d37552",
   "metadata": {},
   "outputs": [],
   "source": [
    "registry_rpc_url = os.environ.get(\"REGISTRY_RPC\")"
   ]
  },
  {
   "cell_type": "code",
   "execution_count": 15,
   "id": "a451a94a-5e98-43e7-b51a-9ee15b449a10",
   "metadata": {},
   "outputs": [],
   "source": [
    "wss_rpc = os.environ.get(\"WSS_RPC\")"
   ]
  },
  {
   "cell_type": "code",
   "execution_count": 16,
   "id": "a8a52d87-696a-4445-abff-a3f7501a498d",
   "metadata": {},
   "outputs": [],
   "source": [
    "royaleAddress = os.environ.get(\"ROYALE_ADDRESS\")"
   ]
  },
  {
   "cell_type": "code",
   "execution_count": 116,
   "id": "e63cf7c9-7e30-4d0c-9232-448c86d92e83",
   "metadata": {},
   "outputs": [],
   "source": [
    "registryAddress = os.environ.get(\"REGISTRY_ADDRESS\")"
   ]
  },
  {
   "cell_type": "code",
   "execution_count": 17,
   "id": "618c31b0-d6a3-46a9-b443-5c0436229dc8",
   "metadata": {},
   "outputs": [],
   "source": [
    "royaleCreateBlockNum = os.environ.get(\"ROYALE_CREATEBLOCK\")"
   ]
  },
  {
   "cell_type": "code",
   "execution_count": 18,
   "id": "c7f1916d-7c32-4f03-99f7-781789506ec2",
   "metadata": {},
   "outputs": [],
   "source": [
    "# load abi\n",
    "with open(os.path.join(ABI_FOLDER_PATH,\"RRoyale.json\")) as royaleJson:\n",
    "    royaleAbi = json.loads(royaleJson.read())['abi']"
   ]
  },
  {
   "cell_type": "code",
   "execution_count": 109,
   "id": "a199f3d5-59c9-4091-8411-00b3d5d368c6",
   "metadata": {},
   "outputs": [],
   "source": [
    "# load registry abi\n",
    "with open(os.path.join(ABI_FOLDER_PATH,\"BurnerAccountRegistry.json\")) as registryJson:\n",
    "    registryAbi = json.loads(registryJson.read())['abi']"
   ]
  },
  {
   "cell_type": "code",
   "execution_count": 38,
   "id": "91b8669b-7a9e-4829-9a5f-0f3d9a009d39",
   "metadata": {},
   "outputs": [],
   "source": [
    "#w3 = Web3(Web3.WebsocketProvider(wss_rpc))\n",
    "w3 = Web3(Web3.HTTPProvider(rpc_url))\n",
    "#w3 = Web3(asyncProvider)"
   ]
  },
  {
   "cell_type": "code",
   "execution_count": 117,
   "id": "042923af-381c-46e6-a989-51f2953432ca",
   "metadata": {},
   "outputs": [],
   "source": [
    "#w3 = Web3(Web3.WebsocketProvider(wss_rpc))\n",
    "r3 = Web3(Web3.HTTPProvider(registry_rpc_url))\n",
    "#w3 = Web3(asyncProvider)"
   ]
  },
  {
   "cell_type": "code",
   "execution_count": 39,
   "id": "5b43ab24-ea78-4bf7-a500-05f4bf6daeaf",
   "metadata": {},
   "outputs": [
    {
     "data": {
      "text/plain": [
       "True"
      ]
     },
     "execution_count": 39,
     "metadata": {},
     "output_type": "execute_result"
    }
   ],
   "source": [
    "w3.is_connected()"
   ]
  },
  {
   "cell_type": "code",
   "execution_count": 118,
   "id": "d6055273-f232-4a19-842d-bc3d12b86653",
   "metadata": {},
   "outputs": [
    {
     "data": {
      "text/plain": [
       "True"
      ]
     },
     "execution_count": 118,
     "metadata": {},
     "output_type": "execute_result"
    }
   ],
   "source": [
    "r3.is_connected()"
   ]
  },
  {
   "cell_type": "code",
   "execution_count": 40,
   "id": "cade16a0-b741-4b2e-9019-ae8a11892602",
   "metadata": {},
   "outputs": [],
   "source": [
    "RoyaleContract = w3.eth.contract(abi=royaleAbi, address=royaleAddress)"
   ]
  },
  {
   "cell_type": "code",
   "execution_count": 119,
   "id": "7c3c2375-10ec-4468-af00-ac5723329401",
   "metadata": {},
   "outputs": [],
   "source": [
    "RegistryContract = r3.eth.contract(abi=registryAbi, address=registryAddress)"
   ]
  },
  {
   "cell_type": "code",
   "execution_count": 15,
   "id": "eb0a3b5e-fa11-4151-8387-a3d357c2c80a",
   "metadata": {},
   "outputs": [],
   "source": [
    "eventName = \"GameCreated\""
   ]
  },
  {
   "cell_type": "code",
   "execution_count": 20,
   "id": "684f00bd-2649-49d3-8657-8c226667be7a",
   "metadata": {},
   "outputs": [],
   "source": [
    "def loadDownloadedData(eventName:str):\n",
    "    with open(os.path.join(eventName+ \".json\")) as data_file:\n",
    "        datajson = json.loads(data_file.read())\n",
    "    return pd.DataFrame([event for _, d in datajson.get(\"blocks\").items() for hash, txn in d.items() for i, event in txn.items()])"
   ]
  },
  {
   "cell_type": "code",
   "execution_count": 22,
   "id": "7377eed0-536d-4628-8e70-ee2947dda81f",
   "metadata": {},
   "outputs": [
    {
     "data": {
      "text/html": [
       "<div>\n",
       "<style scoped>\n",
       "    .dataframe tbody tr th:only-of-type {\n",
       "        vertical-align: middle;\n",
       "    }\n",
       "\n",
       "    .dataframe tbody tr th {\n",
       "        vertical-align: top;\n",
       "    }\n",
       "\n",
       "    .dataframe thead th {\n",
       "        text-align: right;\n",
       "    }\n",
       "</style>\n",
       "<table border=\"1\" class=\"dataframe\">\n",
       "  <thead>\n",
       "    <tr style=\"text-align: right;\">\n",
       "      <th></th>\n",
       "      <th>_roomId</th>\n",
       "      <th>_player</th>\n",
       "      <th>timestamp</th>\n",
       "    </tr>\n",
       "  </thead>\n",
       "  <tbody>\n",
       "    <tr>\n",
       "      <th>0</th>\n",
       "      <td>1</td>\n",
       "      <td>0xAB565131e4F17661A71aAE0A8a65ba7B26FD2ccC</td>\n",
       "      <td>2023-09-04T03:07:32</td>\n",
       "    </tr>\n",
       "    <tr>\n",
       "      <th>1</th>\n",
       "      <td>1</td>\n",
       "      <td>0x7c18211dFaB7b8f20dbE5beB79bA7b69FbeFf25b</td>\n",
       "      <td>2023-09-04T03:10:20</td>\n",
       "    </tr>\n",
       "    <tr>\n",
       "      <th>2</th>\n",
       "      <td>3</td>\n",
       "      <td>0xAB565131e4F17661A71aAE0A8a65ba7B26FD2ccC</td>\n",
       "      <td>2023-09-04T03:52:40</td>\n",
       "    </tr>\n",
       "    <tr>\n",
       "      <th>3</th>\n",
       "      <td>3</td>\n",
       "      <td>0x7c18211dFaB7b8f20dbE5beB79bA7b69FbeFf25b</td>\n",
       "      <td>2023-09-04T03:52:54</td>\n",
       "    </tr>\n",
       "    <tr>\n",
       "      <th>4</th>\n",
       "      <td>4</td>\n",
       "      <td>0xAB565131e4F17661A71aAE0A8a65ba7B26FD2ccC</td>\n",
       "      <td>2023-09-04T04:14:16</td>\n",
       "    </tr>\n",
       "  </tbody>\n",
       "</table>\n",
       "</div>"
      ],
      "text/plain": [
       "   _roomId                                     _player            timestamp\n",
       "0        1  0xAB565131e4F17661A71aAE0A8a65ba7B26FD2ccC  2023-09-04T03:07:32\n",
       "1        1  0x7c18211dFaB7b8f20dbE5beB79bA7b69FbeFf25b  2023-09-04T03:10:20\n",
       "2        3  0xAB565131e4F17661A71aAE0A8a65ba7B26FD2ccC  2023-09-04T03:52:40\n",
       "3        3  0x7c18211dFaB7b8f20dbE5beB79bA7b69FbeFf25b  2023-09-04T03:52:54\n",
       "4        4  0xAB565131e4F17661A71aAE0A8a65ba7B26FD2ccC  2023-09-04T04:14:16"
      ]
     },
     "execution_count": 22,
     "metadata": {},
     "output_type": "execute_result"
    }
   ],
   "source": [
    "## get dfs\n",
    "\n",
    "pKilled = loadDownloadedData(\"PlayerKilled\")\n",
    "pKilled.head()"
   ]
  },
  {
   "cell_type": "code",
   "execution_count": 23,
   "id": "600ddd9d-f721-4979-be51-035e403c81b6",
   "metadata": {},
   "outputs": [
    {
     "data": {
      "text/html": [
       "<div>\n",
       "<style scoped>\n",
       "    .dataframe tbody tr th:only-of-type {\n",
       "        vertical-align: middle;\n",
       "    }\n",
       "\n",
       "    .dataframe tbody tr th {\n",
       "        vertical-align: top;\n",
       "    }\n",
       "\n",
       "    .dataframe thead th {\n",
       "        text-align: right;\n",
       "    }\n",
       "</style>\n",
       "<table border=\"1\" class=\"dataframe\">\n",
       "  <thead>\n",
       "    <tr style=\"text-align: right;\">\n",
       "      <th></th>\n",
       "      <th>_roomId</th>\n",
       "      <th>_winner</th>\n",
       "      <th>timestamp</th>\n",
       "    </tr>\n",
       "  </thead>\n",
       "  <tbody>\n",
       "    <tr>\n",
       "      <th>0</th>\n",
       "      <td>1</td>\n",
       "      <td>0x9D66Bc3D984d19f8DA431d72979d63488bD38cC2</td>\n",
       "      <td>2023-09-04T03:10:20</td>\n",
       "    </tr>\n",
       "    <tr>\n",
       "      <th>1</th>\n",
       "      <td>3</td>\n",
       "      <td>0x9D66Bc3D984d19f8DA431d72979d63488bD38cC2</td>\n",
       "      <td>2023-09-04T03:52:54</td>\n",
       "    </tr>\n",
       "    <tr>\n",
       "      <th>2</th>\n",
       "      <td>4</td>\n",
       "      <td>0x9D66Bc3D984d19f8DA431d72979d63488bD38cC2</td>\n",
       "      <td>2023-09-04T04:14:16</td>\n",
       "    </tr>\n",
       "    <tr>\n",
       "      <th>3</th>\n",
       "      <td>2</td>\n",
       "      <td>0x1c9CE4d4F48AEaD669d21E89D84BB06f6dc0Fb85</td>\n",
       "      <td>2023-09-04T04:50:12</td>\n",
       "    </tr>\n",
       "    <tr>\n",
       "      <th>4</th>\n",
       "      <td>5</td>\n",
       "      <td>0xF2aa741cAfe1E8D2a244A281d0fDE100DB2111fD</td>\n",
       "      <td>2023-09-04T07:09:26</td>\n",
       "    </tr>\n",
       "  </tbody>\n",
       "</table>\n",
       "</div>"
      ],
      "text/plain": [
       "   _roomId                                     _winner            timestamp\n",
       "0        1  0x9D66Bc3D984d19f8DA431d72979d63488bD38cC2  2023-09-04T03:10:20\n",
       "1        3  0x9D66Bc3D984d19f8DA431d72979d63488bD38cC2  2023-09-04T03:52:54\n",
       "2        4  0x9D66Bc3D984d19f8DA431d72979d63488bD38cC2  2023-09-04T04:14:16\n",
       "3        2  0x1c9CE4d4F48AEaD669d21E89D84BB06f6dc0Fb85  2023-09-04T04:50:12\n",
       "4        5  0xF2aa741cAfe1E8D2a244A281d0fDE100DB2111fD  2023-09-04T07:09:26"
      ]
     },
     "execution_count": 23,
     "metadata": {},
     "output_type": "execute_result"
    }
   ],
   "source": [
    "gEnded = loadDownloadedData(\"GameEnded\")\n",
    "gEnded.head()"
   ]
  },
  {
   "cell_type": "code",
   "execution_count": 53,
   "id": "7532620f-5d95-4db0-91b1-e2c81301a28e",
   "metadata": {},
   "outputs": [],
   "source": [
    "players = pd.DataFrame(np.unique(np.append(pKilled._player.values, gEnded._winner.values)), columns=[\"burners\"] )"
   ]
  },
  {
   "cell_type": "code",
   "execution_count": 56,
   "id": "64765076-05e8-4811-af39-0dd40ed0e491",
   "metadata": {},
   "outputs": [
    {
     "data": {
      "text/plain": [
       "17"
      ]
     },
     "execution_count": 56,
     "metadata": {},
     "output_type": "execute_result"
    }
   ],
   "source": [
    "players.burners.count()"
   ]
  },
  {
   "cell_type": "code",
   "execution_count": 123,
   "id": "0293e7a3-c592-47eb-958b-ef921fbbf387",
   "metadata": {},
   "outputs": [],
   "source": [
    "players[\"burnerParent\"] = players.apply(lambda x: getBurnerParent(x[\"burners\"], RegistryContract),axis=1)"
   ]
  },
  {
   "cell_type": "code",
   "execution_count": 91,
   "id": "d338fee1-d7d1-4f66-b40a-d4ba72d7a615",
   "metadata": {},
   "outputs": [],
   "source": [
    "players[[\"totalWins\", \"totalLosses\", \"totalGasEarned\", \"totalGasLost\"]] =  players.apply(lambda x: getUserStats(x[\"burners\"], RoyaleContract), axis=1, result_type ='expand')\n",
    "\n",
    "#players[[\"totalWins\", \"totalLosses\", \"totalGasEarned\", \"totalGasLost\"]] = "
   ]
  },
  {
   "cell_type": "code",
   "execution_count": 99,
   "id": "92904184-524f-43c0-9940-11081faf6ed9",
   "metadata": {},
   "outputs": [],
   "source": [
    "players[\"totalGames\"] = players[\"totalWins\"] + players[\"totalLosses\"]\n",
    "players[\"totalRevenue\"] = players[\"totalGasEarned\"] + players[\"totalGasLost\"]\n",
    "players.drop_duplicates(subset=\"burners\", inplace=True)\n",
    "players.sort_values(by=[\"totalGames\"], ascending=False, inplace=True)\n",
    "players.reset_index(drop=True, inplace=True)"
   ]
  },
  {
   "cell_type": "code",
   "execution_count": 124,
   "id": "3e42bd5d-3827-47b5-842c-57fbed95994a",
   "metadata": {},
   "outputs": [
    {
     "data": {
      "text/html": [
       "<div>\n",
       "<style scoped>\n",
       "    .dataframe tbody tr th:only-of-type {\n",
       "        vertical-align: middle;\n",
       "    }\n",
       "\n",
       "    .dataframe tbody tr th {\n",
       "        vertical-align: top;\n",
       "    }\n",
       "\n",
       "    .dataframe thead th {\n",
       "        text-align: right;\n",
       "    }\n",
       "</style>\n",
       "<table border=\"1\" class=\"dataframe\">\n",
       "  <thead>\n",
       "    <tr style=\"text-align: right;\">\n",
       "      <th></th>\n",
       "      <th>burners</th>\n",
       "      <th>(totalWins, totalLosses, totalGasEarned, totalGasLost)</th>\n",
       "      <th>totalWins</th>\n",
       "      <th>totalLosses</th>\n",
       "      <th>totalGasEarned</th>\n",
       "      <th>totalGasLost</th>\n",
       "      <th>totalGames</th>\n",
       "      <th>totalRevenue</th>\n",
       "      <th>burnerParent</th>\n",
       "    </tr>\n",
       "  </thead>\n",
       "  <tbody>\n",
       "    <tr>\n",
       "      <th>0</th>\n",
       "      <td>0xAB565131e4F17661A71aAE0A8a65ba7B26FD2ccC</td>\n",
       "      <td>[0.0, 8.0, 0.0, 210.65]</td>\n",
       "      <td>0.0</td>\n",
       "      <td>8.0</td>\n",
       "      <td>0.000</td>\n",
       "      <td>210.65</td>\n",
       "      <td>8.0</td>\n",
       "      <td>210.650</td>\n",
       "      <td>0x0000000000000000000000000000000000000000</td>\n",
       "    </tr>\n",
       "    <tr>\n",
       "      <th>1</th>\n",
       "      <td>0x9D66Bc3D984d19f8DA431d72979d63488bD38cC2</td>\n",
       "      <td>[3.0, 3.0, 397.794, 0.35]</td>\n",
       "      <td>3.0</td>\n",
       "      <td>3.0</td>\n",
       "      <td>397.794</td>\n",
       "      <td>0.35</td>\n",
       "      <td>6.0</td>\n",
       "      <td>398.144</td>\n",
       "      <td>0x0000000000000000000000000000000000000000</td>\n",
       "    </tr>\n",
       "    <tr>\n",
       "      <th>2</th>\n",
       "      <td>0x15F39b053F63797a20ddE324713D890B24a8C690</td>\n",
       "      <td>[1.0, 5.0, 0.292, 3.35]</td>\n",
       "      <td>1.0</td>\n",
       "      <td>5.0</td>\n",
       "      <td>0.292</td>\n",
       "      <td>3.35</td>\n",
       "      <td>6.0</td>\n",
       "      <td>3.642</td>\n",
       "      <td>0x0000000000000000000000000000000000000000</td>\n",
       "    </tr>\n",
       "    <tr>\n",
       "      <th>3</th>\n",
       "      <td>0x02F1f5A58d181cc44c754fF6E246148E6d44F330</td>\n",
       "      <td>[2.0, 2.0, 1.056, 4.9]</td>\n",
       "      <td>2.0</td>\n",
       "      <td>2.0</td>\n",
       "      <td>1.056</td>\n",
       "      <td>4.90</td>\n",
       "      <td>4.0</td>\n",
       "      <td>5.956</td>\n",
       "      <td>0x0ec5E6656F15851072F67eeaEe50fcF76174CD07</td>\n",
       "    </tr>\n",
       "    <tr>\n",
       "      <th>4</th>\n",
       "      <td>0x1a654ae3314CF114dCe3713293BF2D4E5dce2F21</td>\n",
       "      <td>[2.0, 2.0, 4.802, 1.1]</td>\n",
       "      <td>2.0</td>\n",
       "      <td>2.0</td>\n",
       "      <td>4.802</td>\n",
       "      <td>1.10</td>\n",
       "      <td>4.0</td>\n",
       "      <td>5.902</td>\n",
       "      <td>0x712136E4B6a9fCbC8E7d64DB270376b0023271a4</td>\n",
       "    </tr>\n",
       "  </tbody>\n",
       "</table>\n",
       "</div>"
      ],
      "text/plain": [
       "                                      burners  \\\n",
       "0  0xAB565131e4F17661A71aAE0A8a65ba7B26FD2ccC   \n",
       "1  0x9D66Bc3D984d19f8DA431d72979d63488bD38cC2   \n",
       "2  0x15F39b053F63797a20ddE324713D890B24a8C690   \n",
       "3  0x02F1f5A58d181cc44c754fF6E246148E6d44F330   \n",
       "4  0x1a654ae3314CF114dCe3713293BF2D4E5dce2F21   \n",
       "\n",
       "  (totalWins, totalLosses, totalGasEarned, totalGasLost)  totalWins  \\\n",
       "0                            [0.0, 8.0, 0.0, 210.65]            0.0   \n",
       "1                          [3.0, 3.0, 397.794, 0.35]            3.0   \n",
       "2                            [1.0, 5.0, 0.292, 3.35]            1.0   \n",
       "3                             [2.0, 2.0, 1.056, 4.9]            2.0   \n",
       "4                             [2.0, 2.0, 4.802, 1.1]            2.0   \n",
       "\n",
       "   totalLosses  totalGasEarned  totalGasLost  totalGames  totalRevenue  \\\n",
       "0          8.0           0.000        210.65         8.0       210.650   \n",
       "1          3.0         397.794          0.35         6.0       398.144   \n",
       "2          5.0           0.292          3.35         6.0         3.642   \n",
       "3          2.0           1.056          4.90         4.0         5.956   \n",
       "4          2.0           4.802          1.10         4.0         5.902   \n",
       "\n",
       "                                 burnerParent  \n",
       "0  0x0000000000000000000000000000000000000000  \n",
       "1  0x0000000000000000000000000000000000000000  \n",
       "2  0x0000000000000000000000000000000000000000  \n",
       "3  0x0ec5E6656F15851072F67eeaEe50fcF76174CD07  \n",
       "4  0x712136E4B6a9fCbC8E7d64DB270376b0023271a4  "
      ]
     },
     "execution_count": 124,
     "metadata": {},
     "output_type": "execute_result"
    }
   ],
   "source": [
    "players.head()"
   ]
  },
  {
   "cell_type": "code",
   "execution_count": null,
   "id": "546c3e07-81f9-4220-a98d-eff41c6a8eba",
   "metadata": {},
   "outputs": [],
   "source": [
    "players.to_csv()"
   ]
  },
  {
   "cell_type": "code",
   "execution_count": 87,
   "id": "89d8c30d-a9bf-4966-986d-a2017fe00441",
   "metadata": {},
   "outputs": [],
   "source": [
    "def getUserStats(address:str, contract:any):\n",
    "    stats = contract.functions.userStats(address).call()\n",
    "    stats[2] = stats[2]/1e18\n",
    "    stats[3] = stats[3]/1e18\n",
    "    #stats = np.array(stats)\n",
    "    return stats"
   ]
  },
  {
   "cell_type": "code",
   "execution_count": 121,
   "id": "a140ebba-8e8b-4fd9-929b-fffd472d64f7",
   "metadata": {},
   "outputs": [],
   "source": [
    "def getBurnerParent(address:str, contract:any):\n",
    "    try:\n",
    "        return contract.functions.ownerAccounts(address).call()\n",
    "    except:\n",
    "        return \"\"\n",
    "    return \"\""
   ]
  },
  {
   "cell_type": "code",
   "execution_count": 122,
   "id": "1173023c-cba2-4d6c-b547-3eabdc3fb4a8",
   "metadata": {},
   "outputs": [
    {
     "data": {
      "text/plain": [
       "'0xA21D9Ab4C71B67782d1E2399C477b613ab1e5b8A'"
      ]
     },
     "execution_count": 122,
     "metadata": {},
     "output_type": "execute_result"
    }
   ],
   "source": [
    "getBurnerParent(\"0xbbC6C81295e20C33471fceD9f8BDAA069a4cd126\", RegistryContract)"
   ]
  },
  {
   "cell_type": "code",
   "execution_count": 112,
   "id": "f820f84c-2622-41c4-b695-fc6d30f94c6d",
   "metadata": {},
   "outputs": [
    {
     "data": {
      "text/plain": [
       "[1, 0, 0.096, 0.0]"
      ]
     },
     "execution_count": 112,
     "metadata": {},
     "output_type": "execute_result"
    }
   ],
   "source": [
    "getUserStats(\"0xbbC6C81295e20C33471fceD9f8BDAA069a4cd126\", RoyaleContract)"
   ]
  },
  {
   "cell_type": "code",
   "execution_count": 16,
   "id": "4edad9d4-6e18-4ee1-b095-6c14dec612b3",
   "metadata": {},
   "outputs": [
    {
     "name": "stdout",
     "output_type": "stream",
     "text": [
      "State starting from scratch\n",
      "Scanning event: GameCreated from blocks 186708 - 397079\n"
     ]
    },
    {
     "name": "stderr",
     "output_type": "stream",
     "text": [
      "Current block: 393404 (08-09-2023), blocks in a scan batch: 10000, events processed in a batch 0: : 216520it [02:01, 1775.55it/s]                          "
     ]
    },
    {
     "name": "stdout",
     "output_type": "stream",
     "text": [
      "Scanned total 24 'GameCreated', in 121.95424556732178 seconds, total 177 chunk scans performed\n"
     ]
    },
    {
     "name": "stderr",
     "output_type": "stream",
     "text": [
      "\n"
     ]
    }
   ],
   "source": [
    "# get event via logs scrapping (throttle)\n",
    "getEventData(eventName=eventName, rpc_url=rpc_url, contractAddress=royaleAddress, abi=royaleAbi, contractCreationBlock=int(royaleCreateBlockNum))"
   ]
  },
  {
   "cell_type": "code",
   "execution_count": 17,
   "id": "6fa40d63-c942-46e5-bca5-1210af33aee2",
   "metadata": {},
   "outputs": [],
   "source": [
    "# load downloaed data\n",
    "with open(os.path.join(eventName+ \".json\")) as data_file:\n",
    "    datajson = json.loads(data_file.read())"
   ]
  },
  {
   "cell_type": "code",
   "execution_count": 42,
   "id": "313f550c-8239-4983-aa4f-e1ff7ac81fa6",
   "metadata": {},
   "outputs": [
    {
     "data": {
      "text/html": [
       "<div>\n",
       "<style scoped>\n",
       "    .dataframe tbody tr th:only-of-type {\n",
       "        vertical-align: middle;\n",
       "    }\n",
       "\n",
       "    .dataframe tbody tr th {\n",
       "        vertical-align: top;\n",
       "    }\n",
       "\n",
       "    .dataframe thead th {\n",
       "        text-align: right;\n",
       "    }\n",
       "</style>\n",
       "<table border=\"1\" class=\"dataframe\">\n",
       "  <thead>\n",
       "    <tr style=\"text-align: right;\">\n",
       "      <th></th>\n",
       "      <th>_roomId</th>\n",
       "      <th>_creator</th>\n",
       "      <th>timestamp</th>\n",
       "    </tr>\n",
       "  </thead>\n",
       "  <tbody>\n",
       "    <tr>\n",
       "      <th>0</th>\n",
       "      <td>1</td>\n",
       "      <td>0xAB565131e4F17661A71aAE0A8a65ba7B26FD2ccC</td>\n",
       "      <td>2023-09-03T18:18:42</td>\n",
       "    </tr>\n",
       "    <tr>\n",
       "      <th>1</th>\n",
       "      <td>2</td>\n",
       "      <td>0x1c9CE4d4F48AEaD669d21E89D84BB06f6dc0Fb85</td>\n",
       "      <td>2023-09-04T02:25:38</td>\n",
       "    </tr>\n",
       "    <tr>\n",
       "      <th>2</th>\n",
       "      <td>3</td>\n",
       "      <td>0xAB565131e4F17661A71aAE0A8a65ba7B26FD2ccC</td>\n",
       "      <td>2023-09-04T03:11:00</td>\n",
       "    </tr>\n",
       "    <tr>\n",
       "      <th>3</th>\n",
       "      <td>4</td>\n",
       "      <td>0xAB565131e4F17661A71aAE0A8a65ba7B26FD2ccC</td>\n",
       "      <td>2023-09-04T04:07:12</td>\n",
       "    </tr>\n",
       "    <tr>\n",
       "      <th>4</th>\n",
       "      <td>5</td>\n",
       "      <td>0xF2aa741cAfe1E8D2a244A281d0fDE100DB2111fD</td>\n",
       "      <td>2023-09-04T07:05:26</td>\n",
       "    </tr>\n",
       "  </tbody>\n",
       "</table>\n",
       "</div>"
      ],
      "text/plain": [
       "   _roomId                                    _creator            timestamp\n",
       "0        1  0xAB565131e4F17661A71aAE0A8a65ba7B26FD2ccC  2023-09-03T18:18:42\n",
       "1        2  0x1c9CE4d4F48AEaD669d21E89D84BB06f6dc0Fb85  2023-09-04T02:25:38\n",
       "2        3  0xAB565131e4F17661A71aAE0A8a65ba7B26FD2ccC  2023-09-04T03:11:00\n",
       "3        4  0xAB565131e4F17661A71aAE0A8a65ba7B26FD2ccC  2023-09-04T04:07:12\n",
       "4        5  0xF2aa741cAfe1E8D2a244A281d0fDE100DB2111fD  2023-09-04T07:05:26"
      ]
     },
     "execution_count": 42,
     "metadata": {},
     "output_type": "execute_result"
    }
   ],
   "source": [
    "df = pd.DataFrame([event for _, d in datajson.get(\"blocks\").items() for hash, txn in d.items() for i, event in txn.items()])\n",
    "df.head()"
   ]
  },
  {
   "cell_type": "code",
   "execution_count": 43,
   "id": "e7caeb7e-9326-4e7b-939a-63830f28b333",
   "metadata": {},
   "outputs": [],
   "source": [
    "df.timestamp= pd.to_datetime(df.timestamp)"
   ]
  },
  {
   "cell_type": "code",
   "execution_count": 41,
   "id": "d661e873-1a06-4161-92e2-62e37aa4e8a0",
   "metadata": {},
   "outputs": [
    {
     "data": {
      "text/plain": [
       "0     1.693765e+09\n",
       "1     1.693794e+09\n",
       "2     1.693797e+09\n",
       "3     1.693800e+09\n",
       "4     1.693811e+09\n",
       "5     1.693844e+09\n",
       "6     1.693844e+09\n",
       "7     1.693883e+09\n",
       "8     1.693884e+09\n",
       "9     1.693893e+09\n",
       "10    1.693903e+09\n",
       "11    1.693908e+09\n",
       "12    1.693909e+09\n",
       "13    1.693913e+09\n",
       "14    1.693923e+09\n",
       "15    1.693932e+09\n",
       "16    1.693964e+09\n",
       "17    1.693964e+09\n",
       "18    1.694010e+09\n",
       "19    1.694052e+09\n",
       "20    1.694069e+09\n",
       "21    1.694074e+09\n",
       "22    1.694075e+09\n",
       "23    1.694086e+09\n",
       "Name: timestamp, dtype: float64"
      ]
     },
     "execution_count": 41,
     "metadata": {},
     "output_type": "execute_result"
    }
   ],
   "source": [
    "df[\"timestamp\"]"
   ]
  },
  {
   "cell_type": "code",
   "execution_count": 129,
   "id": "6b231428-e291-45c7-b2c6-91c48524c846",
   "metadata": {},
   "outputs": [],
   "source": [
    "with open(os.path.join(SCAN_FOLDER_PATH, eventName+ \".json\")) as data_file:\n",
    "    datajson = json.loads(data_file.read())"
   ]
  },
  {
   "cell_type": "code",
   "execution_count": 152,
   "id": "a93306f5-3ed1-47d8-9b4a-b0ea7f2352c4",
   "metadata": {
    "scrolled": true
   },
   "outputs": [
    {
     "data": {
      "text/html": [
       "<div>\n",
       "<style scoped>\n",
       "    .dataframe tbody tr th:only-of-type {\n",
       "        vertical-align: middle;\n",
       "    }\n",
       "\n",
       "    .dataframe tbody tr th {\n",
       "        vertical-align: top;\n",
       "    }\n",
       "\n",
       "    .dataframe thead th {\n",
       "        text-align: right;\n",
       "    }\n",
       "</style>\n",
       "<table border=\"1\" class=\"dataframe\">\n",
       "  <thead>\n",
       "    <tr style=\"text-align: right;\">\n",
       "      <th></th>\n",
       "      <th>_roomId</th>\n",
       "      <th>_creator</th>\n",
       "      <th>timestamp</th>\n",
       "    </tr>\n",
       "  </thead>\n",
       "  <tbody>\n",
       "    <tr>\n",
       "      <th>0</th>\n",
       "      <td>1</td>\n",
       "      <td>0xAB565131e4F17661A71aAE0A8a65ba7B26FD2ccC</td>\n",
       "      <td>2023-09-03T18:18:42</td>\n",
       "    </tr>\n",
       "    <tr>\n",
       "      <th>1</th>\n",
       "      <td>2</td>\n",
       "      <td>0x1c9CE4d4F48AEaD669d21E89D84BB06f6dc0Fb85</td>\n",
       "      <td>2023-09-04T02:25:38</td>\n",
       "    </tr>\n",
       "    <tr>\n",
       "      <th>2</th>\n",
       "      <td>3</td>\n",
       "      <td>0xAB565131e4F17661A71aAE0A8a65ba7B26FD2ccC</td>\n",
       "      <td>2023-09-04T03:11:00</td>\n",
       "    </tr>\n",
       "    <tr>\n",
       "      <th>3</th>\n",
       "      <td>4</td>\n",
       "      <td>0xAB565131e4F17661A71aAE0A8a65ba7B26FD2ccC</td>\n",
       "      <td>2023-09-04T04:07:12</td>\n",
       "    </tr>\n",
       "    <tr>\n",
       "      <th>4</th>\n",
       "      <td>5</td>\n",
       "      <td>0xF2aa741cAfe1E8D2a244A281d0fDE100DB2111fD</td>\n",
       "      <td>2023-09-04T07:05:26</td>\n",
       "    </tr>\n",
       "    <tr>\n",
       "      <th>5</th>\n",
       "      <td>6</td>\n",
       "      <td>0x7c18211dFaB7b8f20dbE5beB79bA7b69FbeFf25b</td>\n",
       "      <td>2023-09-04T16:12:26</td>\n",
       "    </tr>\n",
       "    <tr>\n",
       "      <th>6</th>\n",
       "      <td>7</td>\n",
       "      <td>0x7c18211dFaB7b8f20dbE5beB79bA7b69FbeFf25b</td>\n",
       "      <td>2023-09-04T16:15:58</td>\n",
       "    </tr>\n",
       "    <tr>\n",
       "      <th>7</th>\n",
       "      <td>8</td>\n",
       "      <td>0xa98A30aa944Fe80765775aDCf6C9384Af780E134</td>\n",
       "      <td>2023-09-05T03:02:34</td>\n",
       "    </tr>\n",
       "    <tr>\n",
       "      <th>8</th>\n",
       "      <td>9</td>\n",
       "      <td>0xa98A30aa944Fe80765775aDCf6C9384Af780E134</td>\n",
       "      <td>2023-09-05T03:16:32</td>\n",
       "    </tr>\n",
       "    <tr>\n",
       "      <th>9</th>\n",
       "      <td>10</td>\n",
       "      <td>0x1034A7BE898df18DE2E18D4fb3bAf3E3437044fE</td>\n",
       "      <td>2023-09-05T05:52:32</td>\n",
       "    </tr>\n",
       "    <tr>\n",
       "      <th>10</th>\n",
       "      <td>11</td>\n",
       "      <td>0xa98A30aa944Fe80765775aDCf6C9384Af780E134</td>\n",
       "      <td>2023-09-05T08:35:54</td>\n",
       "    </tr>\n",
       "    <tr>\n",
       "      <th>11</th>\n",
       "      <td>12</td>\n",
       "      <td>0x4F9cEE366a56CB788AA1Ed23C3E8f30bD8E6f919</td>\n",
       "      <td>2023-09-05T09:55:04</td>\n",
       "    </tr>\n",
       "    <tr>\n",
       "      <th>12</th>\n",
       "      <td>13</td>\n",
       "      <td>0x15F39b053F63797a20ddE324713D890B24a8C690</td>\n",
       "      <td>2023-09-05T10:19:16</td>\n",
       "    </tr>\n",
       "    <tr>\n",
       "      <th>13</th>\n",
       "      <td>14</td>\n",
       "      <td>0x15F39b053F63797a20ddE324713D890B24a8C690</td>\n",
       "      <td>2023-09-05T11:26:58</td>\n",
       "    </tr>\n",
       "    <tr>\n",
       "      <th>14</th>\n",
       "      <td>15</td>\n",
       "      <td>0x15F39b053F63797a20ddE324713D890B24a8C690</td>\n",
       "      <td>2023-09-05T14:16:20</td>\n",
       "    </tr>\n",
       "    <tr>\n",
       "      <th>15</th>\n",
       "      <td>16</td>\n",
       "      <td>0xAB565131e4F17661A71aAE0A8a65ba7B26FD2ccC</td>\n",
       "      <td>2023-09-05T16:46:32</td>\n",
       "    </tr>\n",
       "    <tr>\n",
       "      <th>16</th>\n",
       "      <td>17</td>\n",
       "      <td>0x4F9cEE366a56CB788AA1Ed23C3E8f30bD8E6f919</td>\n",
       "      <td>2023-09-06T01:34:34</td>\n",
       "    </tr>\n",
       "    <tr>\n",
       "      <th>17</th>\n",
       "      <td>18</td>\n",
       "      <td>0x15F39b053F63797a20ddE324713D890B24a8C690</td>\n",
       "      <td>2023-09-06T01:34:44</td>\n",
       "    </tr>\n",
       "    <tr>\n",
       "      <th>18</th>\n",
       "      <td>19</td>\n",
       "      <td>0xAB565131e4F17661A71aAE0A8a65ba7B26FD2ccC</td>\n",
       "      <td>2023-09-06T14:21:22</td>\n",
       "    </tr>\n",
       "    <tr>\n",
       "      <th>19</th>\n",
       "      <td>20</td>\n",
       "      <td>0x64D9c315d904f3643B9565ef6c97903caaee516C</td>\n",
       "      <td>2023-09-07T01:51:52</td>\n",
       "    </tr>\n",
       "    <tr>\n",
       "      <th>20</th>\n",
       "      <td>21</td>\n",
       "      <td>0x02F1f5A58d181cc44c754fF6E246148E6d44F330</td>\n",
       "      <td>2023-09-07T06:42:28</td>\n",
       "    </tr>\n",
       "    <tr>\n",
       "      <th>21</th>\n",
       "      <td>22</td>\n",
       "      <td>0x02F1f5A58d181cc44c754fF6E246148E6d44F330</td>\n",
       "      <td>2023-09-07T08:06:10</td>\n",
       "    </tr>\n",
       "    <tr>\n",
       "      <th>22</th>\n",
       "      <td>23</td>\n",
       "      <td>0x02F1f5A58d181cc44c754fF6E246148E6d44F330</td>\n",
       "      <td>2023-09-07T08:19:52</td>\n",
       "    </tr>\n",
       "    <tr>\n",
       "      <th>23</th>\n",
       "      <td>24</td>\n",
       "      <td>0x02F1f5A58d181cc44c754fF6E246148E6d44F330</td>\n",
       "      <td>2023-09-07T11:30:32</td>\n",
       "    </tr>\n",
       "  </tbody>\n",
       "</table>\n",
       "</div>"
      ],
      "text/plain": [
       "    _roomId                                    _creator            timestamp\n",
       "0         1  0xAB565131e4F17661A71aAE0A8a65ba7B26FD2ccC  2023-09-03T18:18:42\n",
       "1         2  0x1c9CE4d4F48AEaD669d21E89D84BB06f6dc0Fb85  2023-09-04T02:25:38\n",
       "2         3  0xAB565131e4F17661A71aAE0A8a65ba7B26FD2ccC  2023-09-04T03:11:00\n",
       "3         4  0xAB565131e4F17661A71aAE0A8a65ba7B26FD2ccC  2023-09-04T04:07:12\n",
       "4         5  0xF2aa741cAfe1E8D2a244A281d0fDE100DB2111fD  2023-09-04T07:05:26\n",
       "5         6  0x7c18211dFaB7b8f20dbE5beB79bA7b69FbeFf25b  2023-09-04T16:12:26\n",
       "6         7  0x7c18211dFaB7b8f20dbE5beB79bA7b69FbeFf25b  2023-09-04T16:15:58\n",
       "7         8  0xa98A30aa944Fe80765775aDCf6C9384Af780E134  2023-09-05T03:02:34\n",
       "8         9  0xa98A30aa944Fe80765775aDCf6C9384Af780E134  2023-09-05T03:16:32\n",
       "9        10  0x1034A7BE898df18DE2E18D4fb3bAf3E3437044fE  2023-09-05T05:52:32\n",
       "10       11  0xa98A30aa944Fe80765775aDCf6C9384Af780E134  2023-09-05T08:35:54\n",
       "11       12  0x4F9cEE366a56CB788AA1Ed23C3E8f30bD8E6f919  2023-09-05T09:55:04\n",
       "12       13  0x15F39b053F63797a20ddE324713D890B24a8C690  2023-09-05T10:19:16\n",
       "13       14  0x15F39b053F63797a20ddE324713D890B24a8C690  2023-09-05T11:26:58\n",
       "14       15  0x15F39b053F63797a20ddE324713D890B24a8C690  2023-09-05T14:16:20\n",
       "15       16  0xAB565131e4F17661A71aAE0A8a65ba7B26FD2ccC  2023-09-05T16:46:32\n",
       "16       17  0x4F9cEE366a56CB788AA1Ed23C3E8f30bD8E6f919  2023-09-06T01:34:34\n",
       "17       18  0x15F39b053F63797a20ddE324713D890B24a8C690  2023-09-06T01:34:44\n",
       "18       19  0xAB565131e4F17661A71aAE0A8a65ba7B26FD2ccC  2023-09-06T14:21:22\n",
       "19       20  0x64D9c315d904f3643B9565ef6c97903caaee516C  2023-09-07T01:51:52\n",
       "20       21  0x02F1f5A58d181cc44c754fF6E246148E6d44F330  2023-09-07T06:42:28\n",
       "21       22  0x02F1f5A58d181cc44c754fF6E246148E6d44F330  2023-09-07T08:06:10\n",
       "22       23  0x02F1f5A58d181cc44c754fF6E246148E6d44F330  2023-09-07T08:19:52\n",
       "23       24  0x02F1f5A58d181cc44c754fF6E246148E6d44F330  2023-09-07T11:30:32"
      ]
     },
     "execution_count": 152,
     "metadata": {},
     "output_type": "execute_result"
    }
   ],
   "source": [
    "pd.DataFrame([event for _, d in datajson.get(\"blocks\").items() for hash, txn in d.items() for i, event in txn.items()])"
   ]
  },
  {
   "cell_type": "code",
   "execution_count": 106,
   "id": "0442306b-0af8-477e-9f92-971c915d2152",
   "metadata": {},
   "outputs": [
    {
     "data": {
      "text/plain": [
       "'186708'"
      ]
     },
     "execution_count": 106,
     "metadata": {},
     "output_type": "execute_result"
    }
   ],
   "source": [
    "royaleCreateBlockNum"
   ]
  },
  {
   "cell_type": "code",
   "execution_count": null,
   "id": "697d51bb-6b34-4707-83d6-fc670c425ea1",
   "metadata": {},
   "outputs": [],
   "source": [
    "RoyaleContract.events.GameCreated.create_filter(fromBlock=royaleCreateBlockNum).get_all_entries()"
   ]
  }
 ],
 "metadata": {
  "kernelspec": {
   "display_name": "Python 3 (ipykernel)",
   "language": "python",
   "name": "python3"
  },
  "language_info": {
   "codemirror_mode": {
    "name": "ipython",
    "version": 3
   },
   "file_extension": ".py",
   "mimetype": "text/x-python",
   "name": "python",
   "nbconvert_exporter": "python",
   "pygments_lexer": "ipython3",
   "version": "3.11.5"
  }
 },
 "nbformat": 4,
 "nbformat_minor": 5
}

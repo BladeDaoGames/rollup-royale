{
 "cells": [
  {
   "cell_type": "code",
   "execution_count": 1,
   "id": "2e744c37-9198-4529-a985-d62d02b926a1",
   "metadata": {},
   "outputs": [],
   "source": [
    "import os\n",
    "import sys\n",
    "from dotenv import load_dotenv, find_dotenv"
   ]
  },
  {
   "cell_type": "code",
   "execution_count": 2,
   "id": "6e29c3a1-4cd1-4e3d-abbb-57f27b24318c",
   "metadata": {},
   "outputs": [],
   "source": [
    "import json"
   ]
  },
  {
   "cell_type": "code",
   "execution_count": 3,
   "id": "892b08ef-63c1-4c97-83b1-85c367221d00",
   "metadata": {},
   "outputs": [],
   "source": [
    "import pandas as pd\n",
    "import numpy as np"
   ]
  },
  {
   "cell_type": "code",
   "execution_count": 4,
   "id": "079999ad-7584-45df-a24e-9aa27fe904de",
   "metadata": {},
   "outputs": [],
   "source": [
    "STREAMLIT_FOLDER_PATH = os.path.join(os.path.dirname(os.getcwd()), \"streamlit\")"
   ]
  },
  {
   "cell_type": "code",
   "execution_count": 5,
   "id": "bbcd363f-8823-4200-b5ce-141a7ef1d02b",
   "metadata": {},
   "outputs": [],
   "source": [
    "SCAN_FOLDER_PATH = os.path.join(os.path.dirname(os.getcwd()), \"streamlit\",\"scan\")"
   ]
  },
  {
   "cell_type": "code",
   "execution_count": 6,
   "id": "425d028e-a913-4e72-a186-4f1590d1c911",
   "metadata": {},
   "outputs": [],
   "source": [
    "DATA_FOLDER_PATH = os.path.join(os.path.dirname(os.getcwd()), \"data\",\"deploy3\")"
   ]
  },
  {
   "cell_type": "code",
   "execution_count": 7,
   "id": "2c3b4c85-937a-4f7e-b3de-5940c95c600b",
   "metadata": {},
   "outputs": [],
   "source": [
    "sys.path.append(SCAN_FOLDER_PATH)"
   ]
  },
  {
   "cell_type": "code",
   "execution_count": 8,
   "id": "b554e62f-9fa3-4a9e-a2ec-392090f9e3b2",
   "metadata": {},
   "outputs": [],
   "source": [
    "sys.path.append(DATA_FOLDER_PATH)"
   ]
  },
  {
   "cell_type": "code",
   "execution_count": 16,
   "id": "1ae6e8e4-0a92-41a1-9738-2e4d796519cc",
   "metadata": {},
   "outputs": [],
   "source": [
    "players = pd.read_pickle(os.path.join(DATA_FOLDER_PATH,\"initial\",\"players.pkl\"))"
   ]
  },
  {
   "cell_type": "code",
   "execution_count": 23,
   "id": "756220fc-04f2-42ac-a6db-249c05ceaf27",
   "metadata": {},
   "outputs": [
    {
     "data": {
      "text/html": [
       "<div>\n",
       "<style scoped>\n",
       "    .dataframe tbody tr th:only-of-type {\n",
       "        vertical-align: middle;\n",
       "    }\n",
       "\n",
       "    .dataframe tbody tr th {\n",
       "        vertical-align: top;\n",
       "    }\n",
       "\n",
       "    .dataframe thead th {\n",
       "        text-align: right;\n",
       "    }\n",
       "</style>\n",
       "<table border=\"1\" class=\"dataframe\">\n",
       "  <thead>\n",
       "    <tr style=\"text-align: right;\">\n",
       "      <th></th>\n",
       "      <th>burners</th>\n",
       "      <th>burnerParent</th>\n",
       "      <th>totalWins</th>\n",
       "      <th>totalLosses</th>\n",
       "      <th>totalGasEarned</th>\n",
       "      <th>totalGasLost</th>\n",
       "      <th>totalGames</th>\n",
       "      <th>totalRevenue</th>\n",
       "    </tr>\n",
       "  </thead>\n",
       "  <tbody>\n",
       "    <tr>\n",
       "      <th>0</th>\n",
       "      <td>0xeedb9220C43f29Bd807Fd2c092c0EFA841F67ED4</td>\n",
       "      <td>0xfff069C7de69b4433050E7AaeaB4BB198541DF56</td>\n",
       "      <td>1.0</td>\n",
       "      <td>4.0</td>\n",
       "      <td>0.292</td>\n",
       "      <td>1.3</td>\n",
       "      <td>5.0</td>\n",
       "      <td>-1.008</td>\n",
       "    </tr>\n",
       "    <tr>\n",
       "      <th>1</th>\n",
       "      <td>0xCb75970cd756b4a61011e0769f2299529d7ca1C6</td>\n",
       "      <td>0xffb0A17E69CB382175503cfe0B029b179658a06A</td>\n",
       "      <td>1.0</td>\n",
       "      <td>1.0</td>\n",
       "      <td>0.096</td>\n",
       "      <td>0.1</td>\n",
       "      <td>2.0</td>\n",
       "      <td>-0.004</td>\n",
       "    </tr>\n",
       "    <tr>\n",
       "      <th>2</th>\n",
       "      <td>0x4eFCE49177BA93E0d103C2e97f9446eEc67Ebd1b</td>\n",
       "      <td>0xffC43AAF9c2757BedF25155735B7d886093279bB</td>\n",
       "      <td>0.0</td>\n",
       "      <td>1.0</td>\n",
       "      <td>0.000</td>\n",
       "      <td>0.1</td>\n",
       "      <td>1.0</td>\n",
       "      <td>-0.100</td>\n",
       "    </tr>\n",
       "    <tr>\n",
       "      <th>3</th>\n",
       "      <td>0x37Bd449B9e6Cfde37d2242d83D3164a25d3d8132</td>\n",
       "      <td>0xff8FBcf1Cb1cBa9C2714894332251808456cCa90</td>\n",
       "      <td>0.0</td>\n",
       "      <td>1.0</td>\n",
       "      <td>0.000</td>\n",
       "      <td>0.1</td>\n",
       "      <td>1.0</td>\n",
       "      <td>-0.100</td>\n",
       "    </tr>\n",
       "    <tr>\n",
       "      <th>4</th>\n",
       "      <td>0x181013F3dDF8F6Cc041c2da48055916d2916aF2e</td>\n",
       "      <td>0xff77d744410d38Ec7DF31569eE0489722FF39929</td>\n",
       "      <td>0.0</td>\n",
       "      <td>1.0</td>\n",
       "      <td>0.000</td>\n",
       "      <td>0.1</td>\n",
       "      <td>1.0</td>\n",
       "      <td>-0.100</td>\n",
       "    </tr>\n",
       "  </tbody>\n",
       "</table>\n",
       "</div>"
      ],
      "text/plain": [
       "                                      burners  \\\n",
       "0  0xeedb9220C43f29Bd807Fd2c092c0EFA841F67ED4   \n",
       "1  0xCb75970cd756b4a61011e0769f2299529d7ca1C6   \n",
       "2  0x4eFCE49177BA93E0d103C2e97f9446eEc67Ebd1b   \n",
       "3  0x37Bd449B9e6Cfde37d2242d83D3164a25d3d8132   \n",
       "4  0x181013F3dDF8F6Cc041c2da48055916d2916aF2e   \n",
       "\n",
       "                                 burnerParent  totalWins  totalLosses  \\\n",
       "0  0xfff069C7de69b4433050E7AaeaB4BB198541DF56        1.0          4.0   \n",
       "1  0xffb0A17E69CB382175503cfe0B029b179658a06A        1.0          1.0   \n",
       "2  0xffC43AAF9c2757BedF25155735B7d886093279bB        0.0          1.0   \n",
       "3  0xff8FBcf1Cb1cBa9C2714894332251808456cCa90        0.0          1.0   \n",
       "4  0xff77d744410d38Ec7DF31569eE0489722FF39929        0.0          1.0   \n",
       "\n",
       "   totalGasEarned  totalGasLost  totalGames  totalRevenue  \n",
       "0           0.292           1.3         5.0        -1.008  \n",
       "1           0.096           0.1         2.0        -0.004  \n",
       "2           0.000           0.1         1.0        -0.100  \n",
       "3           0.000           0.1         1.0        -0.100  \n",
       "4           0.000           0.1         1.0        -0.100  "
      ]
     },
     "execution_count": 23,
     "metadata": {},
     "output_type": "execute_result"
    }
   ],
   "source": [
    "players.head()"
   ]
  },
  {
   "cell_type": "code",
   "execution_count": 34,
   "id": "8ebe1c19-2854-462f-8804-923ad9fd71d3",
   "metadata": {},
   "outputs": [
    {
     "name": "stdout",
     "output_type": "stream",
     "text": [
      "<class 'pandas.core.frame.DataFrame'>\n",
      "Index: 17882 entries, 0 to 17881\n",
      "Data columns (total 8 columns):\n",
      " #   Column          Non-Null Count  Dtype  \n",
      "---  ------          --------------  -----  \n",
      " 0   burners         17882 non-null  object \n",
      " 1   burnerParent    17882 non-null  object \n",
      " 2   totalWins       17882 non-null  float64\n",
      " 3   totalLosses     17882 non-null  float64\n",
      " 4   totalGasEarned  17882 non-null  float64\n",
      " 5   totalGasLost    17882 non-null  float64\n",
      " 6   totalGames      17882 non-null  float64\n",
      " 7   totalRevenue    17882 non-null  float64\n",
      "dtypes: float64(6), object(2)\n",
      "memory usage: 1.2+ MB\n"
     ]
    }
   ],
   "source": [
    "players.info()"
   ]
  },
  {
   "cell_type": "code",
   "execution_count": 35,
   "id": "a411f3d0-dd41-47c1-8981-970b724d2f9d",
   "metadata": {},
   "outputs": [],
   "source": [
    "diffs = pd.read_pickle(os.path.join(DATA_FOLDER_PATH,\"diff\",\"diff.pkl\"))"
   ]
  },
  {
   "cell_type": "code",
   "execution_count": 36,
   "id": "2be209a7-d13c-4c9a-8d02-026ac7432ac5",
   "metadata": {},
   "outputs": [
    {
     "data": {
      "text/html": [
       "<div>\n",
       "<style scoped>\n",
       "    .dataframe tbody tr th:only-of-type {\n",
       "        vertical-align: middle;\n",
       "    }\n",
       "\n",
       "    .dataframe tbody tr th {\n",
       "        vertical-align: top;\n",
       "    }\n",
       "\n",
       "    .dataframe thead th {\n",
       "        text-align: right;\n",
       "    }\n",
       "</style>\n",
       "<table border=\"1\" class=\"dataframe\">\n",
       "  <thead>\n",
       "    <tr style=\"text-align: right;\">\n",
       "      <th></th>\n",
       "      <th>burners</th>\n",
       "      <th>burnerParent</th>\n",
       "      <th>totalWins</th>\n",
       "      <th>totalLosses</th>\n",
       "      <th>totalGasEarned</th>\n",
       "      <th>totalGasLost</th>\n",
       "      <th>totalGames</th>\n",
       "      <th>totalRevenue</th>\n",
       "    </tr>\n",
       "  </thead>\n",
       "  <tbody>\n",
       "    <tr>\n",
       "      <th>0</th>\n",
       "      <td>0x00000002f32C0886eE65D68059Fbdb76EF6A6996</td>\n",
       "      <td>0x0000000000000000000000000000000000000000</td>\n",
       "      <td>0</td>\n",
       "      <td>0</td>\n",
       "      <td>0</td>\n",
       "      <td>0</td>\n",
       "      <td>0</td>\n",
       "      <td>0</td>\n",
       "    </tr>\n",
       "    <tr>\n",
       "      <th>1</th>\n",
       "      <td>0x0000005E1f4EC3CbE90a8705624AA5396E221394</td>\n",
       "      <td>0x0000000000000000000000000000000000000000</td>\n",
       "      <td>0</td>\n",
       "      <td>0</td>\n",
       "      <td>0</td>\n",
       "      <td>0</td>\n",
       "      <td>0</td>\n",
       "      <td>0</td>\n",
       "    </tr>\n",
       "    <tr>\n",
       "      <th>2</th>\n",
       "      <td>0x0000040f1111c5C3d2037940658Ee770BB37e0a2</td>\n",
       "      <td>0x0000000000000000000000000000000000000000</td>\n",
       "      <td>0</td>\n",
       "      <td>0</td>\n",
       "      <td>0</td>\n",
       "      <td>0</td>\n",
       "      <td>0</td>\n",
       "      <td>0</td>\n",
       "    </tr>\n",
       "    <tr>\n",
       "      <th>3</th>\n",
       "      <td>0x000267dC132d3A6eaA505D039E9B82Ab41f05082</td>\n",
       "      <td>0x0624151c9d78679D389Deb14c9A5D26bA24FAc0c</td>\n",
       "      <td>0</td>\n",
       "      <td>0</td>\n",
       "      <td>0</td>\n",
       "      <td>0</td>\n",
       "      <td>0</td>\n",
       "      <td>0</td>\n",
       "    </tr>\n",
       "    <tr>\n",
       "      <th>4</th>\n",
       "      <td>0x0006C3E6A2A22797660ecF7A91C2F4618eD2d206</td>\n",
       "      <td>0xF656500F902F0202c54db85D267F91Ecc0784c1a</td>\n",
       "      <td>0</td>\n",
       "      <td>0</td>\n",
       "      <td>0</td>\n",
       "      <td>0</td>\n",
       "      <td>0</td>\n",
       "      <td>0</td>\n",
       "    </tr>\n",
       "  </tbody>\n",
       "</table>\n",
       "</div>"
      ],
      "text/plain": [
       "                                      burners  \\\n",
       "0  0x00000002f32C0886eE65D68059Fbdb76EF6A6996   \n",
       "1  0x0000005E1f4EC3CbE90a8705624AA5396E221394   \n",
       "2  0x0000040f1111c5C3d2037940658Ee770BB37e0a2   \n",
       "3  0x000267dC132d3A6eaA505D039E9B82Ab41f05082   \n",
       "4  0x0006C3E6A2A22797660ecF7A91C2F4618eD2d206   \n",
       "\n",
       "                                 burnerParent  totalWins  totalLosses  \\\n",
       "0  0x0000000000000000000000000000000000000000          0            0   \n",
       "1  0x0000000000000000000000000000000000000000          0            0   \n",
       "2  0x0000000000000000000000000000000000000000          0            0   \n",
       "3  0x0624151c9d78679D389Deb14c9A5D26bA24FAc0c          0            0   \n",
       "4  0xF656500F902F0202c54db85D267F91Ecc0784c1a          0            0   \n",
       "\n",
       "   totalGasEarned  totalGasLost  totalGames  totalRevenue  \n",
       "0               0             0           0             0  \n",
       "1               0             0           0             0  \n",
       "2               0             0           0             0  \n",
       "3               0             0           0             0  \n",
       "4               0             0           0             0  "
      ]
     },
     "execution_count": 36,
     "metadata": {},
     "output_type": "execute_result"
    }
   ],
   "source": [
    "diffs.head()"
   ]
  },
  {
   "cell_type": "code",
   "execution_count": 37,
   "id": "7a797041-b3a0-4fcc-bab9-9b6b1516002f",
   "metadata": {},
   "outputs": [
    {
     "name": "stdout",
     "output_type": "stream",
     "text": [
      "<class 'pandas.core.frame.DataFrame'>\n",
      "RangeIndex: 17842 entries, 0 to 17841\n",
      "Data columns (total 8 columns):\n",
      " #   Column          Non-Null Count  Dtype \n",
      "---  ------          --------------  ----- \n",
      " 0   burners         17842 non-null  object\n",
      " 1   burnerParent    17842 non-null  object\n",
      " 2   totalWins       17842 non-null  int64 \n",
      " 3   totalLosses     17842 non-null  int64 \n",
      " 4   totalGasEarned  17842 non-null  int64 \n",
      " 5   totalGasLost    17842 non-null  int64 \n",
      " 6   totalGames      17842 non-null  int64 \n",
      " 7   totalRevenue    17842 non-null  int64 \n",
      "dtypes: int64(6), object(2)\n",
      "memory usage: 1.1+ MB\n"
     ]
    }
   ],
   "source": [
    "diffs.info()"
   ]
  },
  {
   "cell_type": "code",
   "execution_count": 38,
   "id": "0722dba4-959e-44a1-8807-b1136b375811",
   "metadata": {},
   "outputs": [
    {
     "data": {
      "text/plain": [
       "35724"
      ]
     },
     "execution_count": 38,
     "metadata": {},
     "output_type": "execute_result"
    }
   ],
   "source": [
    "17842+17882"
   ]
  },
  {
   "cell_type": "code",
   "execution_count": 39,
   "id": "017838f6-9171-4291-bf78-9271958c39e1",
   "metadata": {},
   "outputs": [
    {
     "data": {
      "text/html": [
       "<div>\n",
       "<style scoped>\n",
       "    .dataframe tbody tr th:only-of-type {\n",
       "        vertical-align: middle;\n",
       "    }\n",
       "\n",
       "    .dataframe tbody tr th {\n",
       "        vertical-align: top;\n",
       "    }\n",
       "\n",
       "    .dataframe thead th {\n",
       "        text-align: right;\n",
       "    }\n",
       "</style>\n",
       "<table border=\"1\" class=\"dataframe\">\n",
       "  <thead>\n",
       "    <tr style=\"text-align: right;\">\n",
       "      <th></th>\n",
       "      <th>burners</th>\n",
       "      <th>burnerParent</th>\n",
       "      <th>totalWins</th>\n",
       "      <th>totalLosses</th>\n",
       "      <th>totalGasEarned</th>\n",
       "      <th>totalGasLost</th>\n",
       "      <th>totalGames</th>\n",
       "      <th>totalRevenue</th>\n",
       "    </tr>\n",
       "  </thead>\n",
       "  <tbody>\n",
       "    <tr>\n",
       "      <th>0</th>\n",
       "      <td>0xeedb9220C43f29Bd807Fd2c092c0EFA841F67ED4</td>\n",
       "      <td>0xfff069C7de69b4433050E7AaeaB4BB198541DF56</td>\n",
       "      <td>1.0</td>\n",
       "      <td>4.0</td>\n",
       "      <td>0.292</td>\n",
       "      <td>1.3</td>\n",
       "      <td>5.0</td>\n",
       "      <td>-1.008</td>\n",
       "    </tr>\n",
       "    <tr>\n",
       "      <th>1</th>\n",
       "      <td>0xCb75970cd756b4a61011e0769f2299529d7ca1C6</td>\n",
       "      <td>0xffb0A17E69CB382175503cfe0B029b179658a06A</td>\n",
       "      <td>1.0</td>\n",
       "      <td>1.0</td>\n",
       "      <td>0.096</td>\n",
       "      <td>0.1</td>\n",
       "      <td>2.0</td>\n",
       "      <td>-0.004</td>\n",
       "    </tr>\n",
       "    <tr>\n",
       "      <th>2</th>\n",
       "      <td>0x4eFCE49177BA93E0d103C2e97f9446eEc67Ebd1b</td>\n",
       "      <td>0xffC43AAF9c2757BedF25155735B7d886093279bB</td>\n",
       "      <td>0.0</td>\n",
       "      <td>1.0</td>\n",
       "      <td>0.000</td>\n",
       "      <td>0.1</td>\n",
       "      <td>1.0</td>\n",
       "      <td>-0.100</td>\n",
       "    </tr>\n",
       "    <tr>\n",
       "      <th>3</th>\n",
       "      <td>0x37Bd449B9e6Cfde37d2242d83D3164a25d3d8132</td>\n",
       "      <td>0xff8FBcf1Cb1cBa9C2714894332251808456cCa90</td>\n",
       "      <td>0.0</td>\n",
       "      <td>1.0</td>\n",
       "      <td>0.000</td>\n",
       "      <td>0.1</td>\n",
       "      <td>1.0</td>\n",
       "      <td>-0.100</td>\n",
       "    </tr>\n",
       "    <tr>\n",
       "      <th>4</th>\n",
       "      <td>0x181013F3dDF8F6Cc041c2da48055916d2916aF2e</td>\n",
       "      <td>0xff77d744410d38Ec7DF31569eE0489722FF39929</td>\n",
       "      <td>0.0</td>\n",
       "      <td>1.0</td>\n",
       "      <td>0.000</td>\n",
       "      <td>0.1</td>\n",
       "      <td>1.0</td>\n",
       "      <td>-0.100</td>\n",
       "    </tr>\n",
       "  </tbody>\n",
       "</table>\n",
       "</div>"
      ],
      "text/plain": [
       "                                      burners  \\\n",
       "0  0xeedb9220C43f29Bd807Fd2c092c0EFA841F67ED4   \n",
       "1  0xCb75970cd756b4a61011e0769f2299529d7ca1C6   \n",
       "2  0x4eFCE49177BA93E0d103C2e97f9446eEc67Ebd1b   \n",
       "3  0x37Bd449B9e6Cfde37d2242d83D3164a25d3d8132   \n",
       "4  0x181013F3dDF8F6Cc041c2da48055916d2916aF2e   \n",
       "\n",
       "                                 burnerParent  totalWins  totalLosses  \\\n",
       "0  0xfff069C7de69b4433050E7AaeaB4BB198541DF56        1.0          4.0   \n",
       "1  0xffb0A17E69CB382175503cfe0B029b179658a06A        1.0          1.0   \n",
       "2  0xffC43AAF9c2757BedF25155735B7d886093279bB        0.0          1.0   \n",
       "3  0xff8FBcf1Cb1cBa9C2714894332251808456cCa90        0.0          1.0   \n",
       "4  0xff77d744410d38Ec7DF31569eE0489722FF39929        0.0          1.0   \n",
       "\n",
       "   totalGasEarned  totalGasLost  totalGames  totalRevenue  \n",
       "0           0.292           1.3         5.0        -1.008  \n",
       "1           0.096           0.1         2.0        -0.004  \n",
       "2           0.000           0.1         1.0        -0.100  \n",
       "3           0.000           0.1         1.0        -0.100  \n",
       "4           0.000           0.1         1.0        -0.100  "
      ]
     },
     "execution_count": 39,
     "metadata": {},
     "output_type": "execute_result"
    }
   ],
   "source": [
    "combineDf = pd.concat([players,diffs])\n",
    "combineDf.head()"
   ]
  },
  {
   "cell_type": "code",
   "execution_count": 43,
   "id": "4cf40e2f-d6ba-4bab-ba84-0acd7215bc4b",
   "metadata": {},
   "outputs": [],
   "source": [
    "combineDf.drop_duplicates(subset=\"burners\",inplace=True)"
   ]
  },
  {
   "cell_type": "code",
   "execution_count": 46,
   "id": "fe260126-1091-460c-9b8a-9d6967acfa1b",
   "metadata": {},
   "outputs": [],
   "source": [
    "combineDf.reset_index(drop=True, inplace=True)"
   ]
  },
  {
   "cell_type": "code",
   "execution_count": 48,
   "id": "02f00e81-caea-46d1-9303-4f2b332ab337",
   "metadata": {},
   "outputs": [
    {
     "data": {
      "text/html": [
       "<div>\n",
       "<style scoped>\n",
       "    .dataframe tbody tr th:only-of-type {\n",
       "        vertical-align: middle;\n",
       "    }\n",
       "\n",
       "    .dataframe tbody tr th {\n",
       "        vertical-align: top;\n",
       "    }\n",
       "\n",
       "    .dataframe thead th {\n",
       "        text-align: right;\n",
       "    }\n",
       "</style>\n",
       "<table border=\"1\" class=\"dataframe\">\n",
       "  <thead>\n",
       "    <tr style=\"text-align: right;\">\n",
       "      <th></th>\n",
       "      <th>burners</th>\n",
       "      <th>burnerParent</th>\n",
       "      <th>totalWins</th>\n",
       "      <th>totalLosses</th>\n",
       "      <th>totalGasEarned</th>\n",
       "      <th>totalGasLost</th>\n",
       "      <th>totalGames</th>\n",
       "      <th>totalRevenue</th>\n",
       "    </tr>\n",
       "  </thead>\n",
       "  <tbody>\n",
       "    <tr>\n",
       "      <th>0</th>\n",
       "      <td>0xeedb9220C43f29Bd807Fd2c092c0EFA841F67ED4</td>\n",
       "      <td>0xfff069C7de69b4433050E7AaeaB4BB198541DF56</td>\n",
       "      <td>1.0</td>\n",
       "      <td>4.0</td>\n",
       "      <td>0.292</td>\n",
       "      <td>1.3</td>\n",
       "      <td>5.0</td>\n",
       "      <td>-1.008</td>\n",
       "    </tr>\n",
       "    <tr>\n",
       "      <th>1</th>\n",
       "      <td>0xCb75970cd756b4a61011e0769f2299529d7ca1C6</td>\n",
       "      <td>0xffb0A17E69CB382175503cfe0B029b179658a06A</td>\n",
       "      <td>1.0</td>\n",
       "      <td>1.0</td>\n",
       "      <td>0.096</td>\n",
       "      <td>0.1</td>\n",
       "      <td>2.0</td>\n",
       "      <td>-0.004</td>\n",
       "    </tr>\n",
       "    <tr>\n",
       "      <th>2</th>\n",
       "      <td>0x4eFCE49177BA93E0d103C2e97f9446eEc67Ebd1b</td>\n",
       "      <td>0xffC43AAF9c2757BedF25155735B7d886093279bB</td>\n",
       "      <td>0.0</td>\n",
       "      <td>1.0</td>\n",
       "      <td>0.000</td>\n",
       "      <td>0.1</td>\n",
       "      <td>1.0</td>\n",
       "      <td>-0.100</td>\n",
       "    </tr>\n",
       "    <tr>\n",
       "      <th>3</th>\n",
       "      <td>0x37Bd449B9e6Cfde37d2242d83D3164a25d3d8132</td>\n",
       "      <td>0xff8FBcf1Cb1cBa9C2714894332251808456cCa90</td>\n",
       "      <td>0.0</td>\n",
       "      <td>1.0</td>\n",
       "      <td>0.000</td>\n",
       "      <td>0.1</td>\n",
       "      <td>1.0</td>\n",
       "      <td>-0.100</td>\n",
       "    </tr>\n",
       "    <tr>\n",
       "      <th>4</th>\n",
       "      <td>0x181013F3dDF8F6Cc041c2da48055916d2916aF2e</td>\n",
       "      <td>0xff77d744410d38Ec7DF31569eE0489722FF39929</td>\n",
       "      <td>0.0</td>\n",
       "      <td>1.0</td>\n",
       "      <td>0.000</td>\n",
       "      <td>0.1</td>\n",
       "      <td>1.0</td>\n",
       "      <td>-0.100</td>\n",
       "    </tr>\n",
       "  </tbody>\n",
       "</table>\n",
       "</div>"
      ],
      "text/plain": [
       "                                      burners  \\\n",
       "0  0xeedb9220C43f29Bd807Fd2c092c0EFA841F67ED4   \n",
       "1  0xCb75970cd756b4a61011e0769f2299529d7ca1C6   \n",
       "2  0x4eFCE49177BA93E0d103C2e97f9446eEc67Ebd1b   \n",
       "3  0x37Bd449B9e6Cfde37d2242d83D3164a25d3d8132   \n",
       "4  0x181013F3dDF8F6Cc041c2da48055916d2916aF2e   \n",
       "\n",
       "                                 burnerParent  totalWins  totalLosses  \\\n",
       "0  0xfff069C7de69b4433050E7AaeaB4BB198541DF56        1.0          4.0   \n",
       "1  0xffb0A17E69CB382175503cfe0B029b179658a06A        1.0          1.0   \n",
       "2  0xffC43AAF9c2757BedF25155735B7d886093279bB        0.0          1.0   \n",
       "3  0xff8FBcf1Cb1cBa9C2714894332251808456cCa90        0.0          1.0   \n",
       "4  0xff77d744410d38Ec7DF31569eE0489722FF39929        0.0          1.0   \n",
       "\n",
       "   totalGasEarned  totalGasLost  totalGames  totalRevenue  \n",
       "0           0.292           1.3         5.0        -1.008  \n",
       "1           0.096           0.1         2.0        -0.004  \n",
       "2           0.000           0.1         1.0        -0.100  \n",
       "3           0.000           0.1         1.0        -0.100  \n",
       "4           0.000           0.1         1.0        -0.100  "
      ]
     },
     "execution_count": 48,
     "metadata": {},
     "output_type": "execute_result"
    }
   ],
   "source": [
    "combineDf.head()"
   ]
  },
  {
   "cell_type": "code",
   "execution_count": 50,
   "id": "3da97fac-5e13-47ae-8928-e49edc77d49c",
   "metadata": {},
   "outputs": [
    {
     "name": "stdout",
     "output_type": "stream",
     "text": [
      "<class 'pandas.core.frame.DataFrame'>\n",
      "RangeIndex: 35708 entries, 0 to 35707\n",
      "Data columns (total 8 columns):\n",
      " #   Column          Non-Null Count  Dtype  \n",
      "---  ------          --------------  -----  \n",
      " 0   burners         35708 non-null  object \n",
      " 1   burnerParent    35708 non-null  object \n",
      " 2   totalWins       35708 non-null  float64\n",
      " 3   totalLosses     35708 non-null  float64\n",
      " 4   totalGasEarned  35708 non-null  float64\n",
      " 5   totalGasLost    35708 non-null  float64\n",
      " 6   totalGames      35708 non-null  float64\n",
      " 7   totalRevenue    35708 non-null  float64\n",
      "dtypes: float64(6), object(2)\n",
      "memory usage: 2.2+ MB\n"
     ]
    }
   ],
   "source": [
    "combineDf.info()"
   ]
  },
  {
   "cell_type": "code",
   "execution_count": 51,
   "id": "bb738c4b-2fa6-4ad6-bf70-80d264089259",
   "metadata": {},
   "outputs": [],
   "source": [
    "combineDf.to_csv(\"burners131023.csv\",index=False)\n",
    "combineDf.to_pickle(\"burners131023.pkl\")"
   ]
  },
  {
   "cell_type": "code",
   "execution_count": 24,
   "id": "003db84f-8440-48c8-9fb1-5d0150322495",
   "metadata": {},
   "outputs": [],
   "source": [
    "with open(os.path.join(STREAMLIT_FOLDER_PATH,\"GameEnded.json\")) as royaleJson:\n",
    "        #with bucket.blob(eventName+\".json\").open(\"r\") as royaleJson:\n",
    "            gameEndedJson = json.loads(royaleJson.read())"
   ]
  },
  {
   "cell_type": "code",
   "execution_count": 25,
   "id": "08b83190-2b2a-49d0-8d57-170aea7cd38f",
   "metadata": {},
   "outputs": [],
   "source": [
    "gameEnded = pd.DataFrame([event for _, d in gameEndedJson.get(\"blocks\").items() for hash, \n",
    "                        txn in d.items() for i, event in txn.items()])"
   ]
  },
  {
   "cell_type": "code",
   "execution_count": 26,
   "id": "2fe8bbe4-69fa-4a68-a44c-cea6966d4a14",
   "metadata": {},
   "outputs": [
    {
     "name": "stdout",
     "output_type": "stream",
     "text": [
      "42403\n"
     ]
    },
    {
     "data": {
      "text/plain": [
       "array(['0x8A2FA09530F858D2B064d5539aa755E8b901033a',\n",
       "       '0xD938fFd07F56087aE52E1C1D9036E587C568597f',\n",
       "       '0x0aCf75e7C29bd27f1CD6Ed47c8769c61Bc6a6881', ...,\n",
       "       '0x9ef71eE24c0E6A6c43fb7d6C0CdCe43A5C8979B2',\n",
       "       '0xf51FEa9c163a49Eb676dA0850349ad91d4671f2b',\n",
       "       '0xa319E9747ccCbEF01ea73bDC6F89be5eD727fc1d'], dtype=object)"
      ]
     },
     "execution_count": 26,
     "metadata": {},
     "output_type": "execute_result"
    }
   ],
   "source": [
    "print(len(gameEnded._winner.values))\n",
    "gameEnded._winner.values"
   ]
  },
  {
   "cell_type": "code",
   "execution_count": 27,
   "id": "5716ef22-e1f5-41b0-9c3b-3ebed39ed243",
   "metadata": {},
   "outputs": [],
   "source": [
    "with open(os.path.join(STREAMLIT_FOLDER_PATH,\"PlayerKilled.json\")) as royaleJson:\n",
    "        #with bucket.blob(eventName+\".json\").open(\"r\") as royaleJson:\n",
    "            playerKilledJson = json.loads(royaleJson.read())"
   ]
  },
  {
   "cell_type": "code",
   "execution_count": 28,
   "id": "60ca1be8-39f7-4d0f-a420-c0106f838ea5",
   "metadata": {},
   "outputs": [],
   "source": [
    "pKilled = pd.DataFrame([event for _, d in playerKilledJson.get(\"blocks\").items() for hash, \n",
    "                        txn in d.items() for i, event in txn.items()])"
   ]
  },
  {
   "cell_type": "code",
   "execution_count": 29,
   "id": "e3972597-d322-451b-a710-9f40e60f22ab",
   "metadata": {},
   "outputs": [
    {
     "name": "stdout",
     "output_type": "stream",
     "text": [
      "80724\n"
     ]
    },
    {
     "data": {
      "text/plain": [
       "array(['0x6c228b26bC8AA19a486380E80f18784123d3D0a0',\n",
       "       '0xF2aa741cAfe1E8D2a244A281d0fDE100DB2111fD',\n",
       "       '0x22e9d23d61f0bF4922aB96bD40c461234B155743', ...,\n",
       "       '0x9e9D516367d22F10961445b2477Dbf2A2F23916c',\n",
       "       '0x97106d6f810954411c731118BF45065FA185d2C3',\n",
       "       '0xAbF1BD29799367aE780Dc085A6728c001a12cA6f'], dtype=object)"
      ]
     },
     "execution_count": 29,
     "metadata": {},
     "output_type": "execute_result"
    }
   ],
   "source": [
    "print(len(pKilled._player.values))\n",
    "pKilled._player.values"
   ]
  },
  {
   "cell_type": "code",
   "execution_count": 30,
   "id": "c9cf56c8-0206-4fae-aa68-dd81a2aeceb2",
   "metadata": {},
   "outputs": [
    {
     "name": "stdout",
     "output_type": "stream",
     "text": [
      "123127\n"
     ]
    },
    {
     "data": {
      "text/plain": [
       "array(['0x6c228b26bC8AA19a486380E80f18784123d3D0a0',\n",
       "       '0xF2aa741cAfe1E8D2a244A281d0fDE100DB2111fD',\n",
       "       '0x22e9d23d61f0bF4922aB96bD40c461234B155743', ...,\n",
       "       '0x9ef71eE24c0E6A6c43fb7d6C0CdCe43A5C8979B2',\n",
       "       '0xf51FEa9c163a49Eb676dA0850349ad91d4671f2b',\n",
       "       '0xa319E9747ccCbEF01ea73bDC6F89be5eD727fc1d'], dtype=object)"
      ]
     },
     "execution_count": 30,
     "metadata": {},
     "output_type": "execute_result"
    }
   ],
   "source": [
    "all_scraped_burners = np.append(pKilled._player.values, gameEnded._winner.values)\n",
    "print(len(all_scraped_burners))\n",
    "all_scraped_burners"
   ]
  },
  {
   "cell_type": "code",
   "execution_count": 31,
   "id": "b90c9b5b-8534-4de9-9949-12913ce7c811",
   "metadata": {},
   "outputs": [
    {
     "name": "stdout",
     "output_type": "stream",
     "text": [
      "35703\n"
     ]
    },
    {
     "data": {
      "text/plain": [
       "array(['0x00000002f32C0886eE65D68059Fbdb76EF6A6996',\n",
       "       '0x0000005E1f4EC3CbE90a8705624AA5396E221394',\n",
       "       '0x0000040f1111c5C3d2037940658Ee770BB37e0a2', ...,\n",
       "       '0xfff28B86a90339520059202Ceb9a3564E031CF03',\n",
       "       '0xfff481da300A4fc90AD6BBd862b43b6527cb8dCB',\n",
       "       '0xfff64347cbF5Cbc5b608E51eAC72D3d38f441b0a'], dtype=object)"
      ]
     },
     "execution_count": 31,
     "metadata": {},
     "output_type": "execute_result"
    }
   ],
   "source": [
    "unique_scraped = np.unique(all_scraped_burners)\n",
    "print(len(unique_scraped))\n",
    "unique_scraped"
   ]
  },
  {
   "cell_type": "code",
   "execution_count": 32,
   "id": "8a538ad7-6a00-46cd-a5d3-796efea8e6cd",
   "metadata": {},
   "outputs": [
    {
     "data": {
      "text/plain": [
       "array(['0x1B0eDb82359e811a4934aaDF6Be51f293c1AE803',\n",
       "       '0x4434747d375a53cB57A43f578EA045458C54222a',\n",
       "       '0x9B29c8a4314F5e54AE891370Aebad969F6FB43d4',\n",
       "       '0xE49AD4C7459299C0e1B2b5DA568e1642b5cc26B5',\n",
       "       '0xde083e5FC0b840463459C621fd6e1cFa5fE6e677'], dtype=object)"
      ]
     },
     "execution_count": 32,
     "metadata": {},
     "output_type": "execute_result"
    }
   ],
   "source": [
    "np.setdiff1d(players[\"burners\"], unique_scraped)"
   ]
  },
  {
   "cell_type": "code",
   "execution_count": 33,
   "id": "0be1e614-d312-4f22-82f8-e9e8840a1aaa",
   "metadata": {},
   "outputs": [
    {
     "name": "stdout",
     "output_type": "stream",
     "text": [
      "17842\n"
     ]
    },
    {
     "data": {
      "text/plain": [
       "array(['0x00000002f32C0886eE65D68059Fbdb76EF6A6996',\n",
       "       '0x0000005E1f4EC3CbE90a8705624AA5396E221394',\n",
       "       '0x0000040f1111c5C3d2037940658Ee770BB37e0a2', ...,\n",
       "       '0xffecE27b3502d78358460CA06f0908383FF7eb46',\n",
       "       '0xfff481da300A4fc90AD6BBd862b43b6527cb8dCB',\n",
       "       '0xfff64347cbF5Cbc5b608E51eAC72D3d38f441b0a'], dtype=object)"
      ]
     },
     "execution_count": 33,
     "metadata": {},
     "output_type": "execute_result"
    }
   ],
   "source": [
    "set_diff = np.setdiff1d(unique_scraped, players[\"burners\"])\n",
    "print(len(set_diff))\n",
    "set_diff"
   ]
  },
  {
   "cell_type": "code",
   "execution_count": 40,
   "id": "163c2b6c-e6f6-49e7-aec9-7cbefc20cf22",
   "metadata": {},
   "outputs": [],
   "source": [
    "dfSetDiff = pd.DataFrame(set_diff)\n",
    "dfSetDiff.rename(columns = {0:'burners'}, inplace = True)\n",
    "dfSetDiff[\"burnerParent\"] = \"0x0000000000000000000000000000000000000000\"\n",
    "dfSetDiff[\"totalWins\"]=0\n",
    "dfSetDiff[\"totalLosses\"]=0\n",
    "dfSetDiff[\"totalGasEarned\"]=0\n",
    "dfSetDiff[\"totalGasLost\"]=0\n",
    "dfSetDiff[\"totalGames\"]=0\n",
    "dfSetDiff[\"totalRevenue\"]=0"
   ]
  },
  {
   "cell_type": "code",
   "execution_count": 41,
   "id": "6b8e17f4-fca7-4354-936a-eb09ceeed736",
   "metadata": {},
   "outputs": [
    {
     "data": {
      "text/html": [
       "<div>\n",
       "<style scoped>\n",
       "    .dataframe tbody tr th:only-of-type {\n",
       "        vertical-align: middle;\n",
       "    }\n",
       "\n",
       "    .dataframe tbody tr th {\n",
       "        vertical-align: top;\n",
       "    }\n",
       "\n",
       "    .dataframe thead th {\n",
       "        text-align: right;\n",
       "    }\n",
       "</style>\n",
       "<table border=\"1\" class=\"dataframe\">\n",
       "  <thead>\n",
       "    <tr style=\"text-align: right;\">\n",
       "      <th></th>\n",
       "      <th>burners</th>\n",
       "      <th>burnerParent</th>\n",
       "      <th>totalWins</th>\n",
       "      <th>totalLosses</th>\n",
       "      <th>totalGasEarned</th>\n",
       "      <th>totalGasLost</th>\n",
       "      <th>totalGames</th>\n",
       "      <th>totalRevenue</th>\n",
       "    </tr>\n",
       "  </thead>\n",
       "  <tbody>\n",
       "    <tr>\n",
       "      <th>0</th>\n",
       "      <td>0x00000002f32C0886eE65D68059Fbdb76EF6A6996</td>\n",
       "      <td>0x0000000000000000000000000000000000000000</td>\n",
       "      <td>0</td>\n",
       "      <td>0</td>\n",
       "      <td>0</td>\n",
       "      <td>0</td>\n",
       "      <td>0</td>\n",
       "      <td>0</td>\n",
       "    </tr>\n",
       "    <tr>\n",
       "      <th>1</th>\n",
       "      <td>0x0000005E1f4EC3CbE90a8705624AA5396E221394</td>\n",
       "      <td>0x0000000000000000000000000000000000000000</td>\n",
       "      <td>0</td>\n",
       "      <td>0</td>\n",
       "      <td>0</td>\n",
       "      <td>0</td>\n",
       "      <td>0</td>\n",
       "      <td>0</td>\n",
       "    </tr>\n",
       "    <tr>\n",
       "      <th>2</th>\n",
       "      <td>0x0000040f1111c5C3d2037940658Ee770BB37e0a2</td>\n",
       "      <td>0x0000000000000000000000000000000000000000</td>\n",
       "      <td>0</td>\n",
       "      <td>0</td>\n",
       "      <td>0</td>\n",
       "      <td>0</td>\n",
       "      <td>0</td>\n",
       "      <td>0</td>\n",
       "    </tr>\n",
       "    <tr>\n",
       "      <th>3</th>\n",
       "      <td>0x000267dC132d3A6eaA505D039E9B82Ab41f05082</td>\n",
       "      <td>0x0000000000000000000000000000000000000000</td>\n",
       "      <td>0</td>\n",
       "      <td>0</td>\n",
       "      <td>0</td>\n",
       "      <td>0</td>\n",
       "      <td>0</td>\n",
       "      <td>0</td>\n",
       "    </tr>\n",
       "    <tr>\n",
       "      <th>4</th>\n",
       "      <td>0x0006C3E6A2A22797660ecF7A91C2F4618eD2d206</td>\n",
       "      <td>0x0000000000000000000000000000000000000000</td>\n",
       "      <td>0</td>\n",
       "      <td>0</td>\n",
       "      <td>0</td>\n",
       "      <td>0</td>\n",
       "      <td>0</td>\n",
       "      <td>0</td>\n",
       "    </tr>\n",
       "  </tbody>\n",
       "</table>\n",
       "</div>"
      ],
      "text/plain": [
       "                                      burners  \\\n",
       "0  0x00000002f32C0886eE65D68059Fbdb76EF6A6996   \n",
       "1  0x0000005E1f4EC3CbE90a8705624AA5396E221394   \n",
       "2  0x0000040f1111c5C3d2037940658Ee770BB37e0a2   \n",
       "3  0x000267dC132d3A6eaA505D039E9B82Ab41f05082   \n",
       "4  0x0006C3E6A2A22797660ecF7A91C2F4618eD2d206   \n",
       "\n",
       "                                 burnerParent  totalWins  totalLosses  \\\n",
       "0  0x0000000000000000000000000000000000000000          0            0   \n",
       "1  0x0000000000000000000000000000000000000000          0            0   \n",
       "2  0x0000000000000000000000000000000000000000          0            0   \n",
       "3  0x0000000000000000000000000000000000000000          0            0   \n",
       "4  0x0000000000000000000000000000000000000000          0            0   \n",
       "\n",
       "   totalGasEarned  totalGasLost  totalGames  totalRevenue  \n",
       "0               0             0           0             0  \n",
       "1               0             0           0             0  \n",
       "2               0             0           0             0  \n",
       "3               0             0           0             0  \n",
       "4               0             0           0             0  "
      ]
     },
     "execution_count": 41,
     "metadata": {},
     "output_type": "execute_result"
    }
   ],
   "source": [
    "dfSetDiff.head()"
   ]
  },
  {
   "cell_type": "code",
   "execution_count": 42,
   "id": "8a37c6dd-5892-433b-ad56-ee768b948797",
   "metadata": {},
   "outputs": [],
   "source": [
    "dfSetDiff.to_pickle(\"setDiff131023.pkl\")\n",
    "dfSetDiff.to_csv(\"setDiff131023.csv\", index=False)"
   ]
  },
  {
   "cell_type": "code",
   "execution_count": 21,
   "id": "55e1bfd0-594d-4cdf-b93e-7bf3f84b0c8b",
   "metadata": {},
   "outputs": [
    {
     "data": {
      "text/plain": [
       "17882"
      ]
     },
     "execution_count": 21,
     "metadata": {},
     "output_type": "execute_result"
    }
   ],
   "source": [
    "len(players)"
   ]
  },
  {
   "cell_type": "code",
   "execution_count": 39,
   "id": "2fb71dd0-4676-4edd-bbe8-2bf2ca707bf0",
   "metadata": {},
   "outputs": [
    {
     "name": "stdout",
     "output_type": "stream",
     "text": [
      "4393\n"
     ]
    },
    {
     "data": {
      "text/html": [
       "<div>\n",
       "<style scoped>\n",
       "    .dataframe tbody tr th:only-of-type {\n",
       "        vertical-align: middle;\n",
       "    }\n",
       "\n",
       "    .dataframe tbody tr th {\n",
       "        vertical-align: top;\n",
       "    }\n",
       "\n",
       "    .dataframe thead th {\n",
       "        text-align: right;\n",
       "    }\n",
       "</style>\n",
       "<table border=\"1\" class=\"dataframe\">\n",
       "  <thead>\n",
       "    <tr style=\"text-align: right;\">\n",
       "      <th></th>\n",
       "      <th>burners</th>\n",
       "      <th>burnerParent</th>\n",
       "      <th>totalWins</th>\n",
       "      <th>totalLosses</th>\n",
       "      <th>totalGasEarned</th>\n",
       "      <th>totalGasLost</th>\n",
       "      <th>totalGames</th>\n",
       "      <th>totalRevenue</th>\n",
       "    </tr>\n",
       "  </thead>\n",
       "  <tbody>\n",
       "    <tr>\n",
       "      <th>0</th>\n",
       "      <td>0x7b8eF2675A64fe54eF114F487F559F2b9d6073fa</td>\n",
       "      <td>0x36d4B301334EDdCf5FF9603750A81C4799Ed9f44</td>\n",
       "      <td>1.0</td>\n",
       "      <td>25.0</td>\n",
       "      <td>0.096</td>\n",
       "      <td>2.5</td>\n",
       "      <td>26.0</td>\n",
       "      <td>-2.404</td>\n",
       "    </tr>\n",
       "    <tr>\n",
       "      <th>1</th>\n",
       "      <td>0x0000005E1f4EC3CbE90a8705624AA5396E221394</td>\n",
       "      <td>0x0000000000000000000000000000000000000000</td>\n",
       "      <td>5.0</td>\n",
       "      <td>17.0</td>\n",
       "      <td>0.578</td>\n",
       "      <td>4.4</td>\n",
       "      <td>22.0</td>\n",
       "      <td>-3.822</td>\n",
       "    </tr>\n",
       "    <tr>\n",
       "      <th>2</th>\n",
       "      <td>0x931262767377D9fFe050017E3b74FfF66742015D</td>\n",
       "      <td>0x0000000000000000000000000000000000000000</td>\n",
       "      <td>8.0</td>\n",
       "      <td>13.0</td>\n",
       "      <td>0.964</td>\n",
       "      <td>1.3</td>\n",
       "      <td>21.0</td>\n",
       "      <td>-0.336</td>\n",
       "    </tr>\n",
       "    <tr>\n",
       "      <th>3</th>\n",
       "      <td>0xADbE60478f814e6bB3E1c4A69670Fae36c8C68F5</td>\n",
       "      <td>0x8650Ea8ED8D56B18087451c4E083244e8E3F3826</td>\n",
       "      <td>1.0</td>\n",
       "      <td>19.0</td>\n",
       "      <td>0.292</td>\n",
       "      <td>1.9</td>\n",
       "      <td>20.0</td>\n",
       "      <td>-1.608</td>\n",
       "    </tr>\n",
       "    <tr>\n",
       "      <th>4</th>\n",
       "      <td>0x03aB242c1D91b0Cf8bF7bb794461aD895AC3696c</td>\n",
       "      <td>0xe6BE238c591264B524b6AB65ff8Ab72f3bA4AFa1</td>\n",
       "      <td>4.0</td>\n",
       "      <td>13.0</td>\n",
       "      <td>1.168</td>\n",
       "      <td>1.3</td>\n",
       "      <td>17.0</td>\n",
       "      <td>-0.132</td>\n",
       "    </tr>\n",
       "  </tbody>\n",
       "</table>\n",
       "</div>"
      ],
      "text/plain": [
       "                                      burners  \\\n",
       "0  0x7b8eF2675A64fe54eF114F487F559F2b9d6073fa   \n",
       "1  0x0000005E1f4EC3CbE90a8705624AA5396E221394   \n",
       "2  0x931262767377D9fFe050017E3b74FfF66742015D   \n",
       "3  0xADbE60478f814e6bB3E1c4A69670Fae36c8C68F5   \n",
       "4  0x03aB242c1D91b0Cf8bF7bb794461aD895AC3696c   \n",
       "\n",
       "                                 burnerParent  totalWins  totalLosses  \\\n",
       "0  0x36d4B301334EDdCf5FF9603750A81C4799Ed9f44        1.0         25.0   \n",
       "1  0x0000000000000000000000000000000000000000        5.0         17.0   \n",
       "2  0x0000000000000000000000000000000000000000        8.0         13.0   \n",
       "3  0x8650Ea8ED8D56B18087451c4E083244e8E3F3826        1.0         19.0   \n",
       "4  0xe6BE238c591264B524b6AB65ff8Ab72f3bA4AFa1        4.0         13.0   \n",
       "\n",
       "   totalGasEarned  totalGasLost  totalGames  totalRevenue  \n",
       "0           0.096           2.5        26.0        -2.404  \n",
       "1           0.578           4.4        22.0        -3.822  \n",
       "2           0.964           1.3        21.0        -0.336  \n",
       "3           0.292           1.9        20.0        -1.608  \n",
       "4           1.168           1.3        17.0        -0.132  "
      ]
     },
     "execution_count": 39,
     "metadata": {},
     "output_type": "execute_result"
    }
   ],
   "source": [
    "players = players[~players[\"burners\"].isin(set_diff)]\n",
    "print(len(players))\n",
    "players.head()"
   ]
  },
  {
   "cell_type": "code",
   "execution_count": 40,
   "id": "6c4a99d1-9b55-48a6-8ee4-6cc5ad6741e5",
   "metadata": {},
   "outputs": [],
   "source": [
    "new_players = pd.DataFrame(set_diff, columns=[\"burners\"])"
   ]
  },
  {
   "cell_type": "code",
   "execution_count": 41,
   "id": "efcc6866-5ae3-4ceb-8787-501d7a871c2b",
   "metadata": {},
   "outputs": [],
   "source": [
    "new_players[\"burnerParent\"] = \"0x0\""
   ]
  },
  {
   "cell_type": "code",
   "execution_count": 42,
   "id": "10e2c973-5d7d-4292-93ea-954bc94d4852",
   "metadata": {},
   "outputs": [],
   "source": [
    "new_players[[\"totalWins\", \"totalLosses\", \"totalGasEarned\", \"totalGasLost\"]] = 0"
   ]
  },
  {
   "cell_type": "code",
   "execution_count": 43,
   "id": "803fcec6-31c0-4530-a08a-587201e3081b",
   "metadata": {},
   "outputs": [
    {
     "data": {
      "text/plain": [
       "14911"
      ]
     },
     "execution_count": 43,
     "metadata": {},
     "output_type": "execute_result"
    }
   ],
   "source": [
    "len(new_players)"
   ]
  },
  {
   "cell_type": "code",
   "execution_count": 44,
   "id": "0c906f1f-c292-4b46-a97d-3f61ba679be8",
   "metadata": {},
   "outputs": [
    {
     "name": "stdout",
     "output_type": "stream",
     "text": [
      "19304\n"
     ]
    },
    {
     "data": {
      "text/html": [
       "<div>\n",
       "<style scoped>\n",
       "    .dataframe tbody tr th:only-of-type {\n",
       "        vertical-align: middle;\n",
       "    }\n",
       "\n",
       "    .dataframe tbody tr th {\n",
       "        vertical-align: top;\n",
       "    }\n",
       "\n",
       "    .dataframe thead th {\n",
       "        text-align: right;\n",
       "    }\n",
       "</style>\n",
       "<table border=\"1\" class=\"dataframe\">\n",
       "  <thead>\n",
       "    <tr style=\"text-align: right;\">\n",
       "      <th></th>\n",
       "      <th>burners</th>\n",
       "      <th>burnerParent</th>\n",
       "      <th>totalWins</th>\n",
       "      <th>totalLosses</th>\n",
       "      <th>totalGasEarned</th>\n",
       "      <th>totalGasLost</th>\n",
       "      <th>totalGames</th>\n",
       "      <th>totalRevenue</th>\n",
       "    </tr>\n",
       "  </thead>\n",
       "  <tbody>\n",
       "    <tr>\n",
       "      <th>14906</th>\n",
       "      <td>0xffa87ed1477FCc96C19aecD6d802f6b0EBf2149D</td>\n",
       "      <td>0x0</td>\n",
       "      <td>0.0</td>\n",
       "      <td>0.0</td>\n",
       "      <td>0.0</td>\n",
       "      <td>0.0</td>\n",
       "      <td>NaN</td>\n",
       "      <td>NaN</td>\n",
       "    </tr>\n",
       "    <tr>\n",
       "      <th>14907</th>\n",
       "      <td>0xffe164701953742Bdb16EE071b3dc6717AEcdEd1</td>\n",
       "      <td>0x0</td>\n",
       "      <td>0.0</td>\n",
       "      <td>0.0</td>\n",
       "      <td>0.0</td>\n",
       "      <td>0.0</td>\n",
       "      <td>NaN</td>\n",
       "      <td>NaN</td>\n",
       "    </tr>\n",
       "    <tr>\n",
       "      <th>14908</th>\n",
       "      <td>0xffe9ACA61ad014dc74aBcc0A0b5fe60BccdD345E</td>\n",
       "      <td>0x0</td>\n",
       "      <td>0.0</td>\n",
       "      <td>0.0</td>\n",
       "      <td>0.0</td>\n",
       "      <td>0.0</td>\n",
       "      <td>NaN</td>\n",
       "      <td>NaN</td>\n",
       "    </tr>\n",
       "    <tr>\n",
       "      <th>14909</th>\n",
       "      <td>0xfff0d61Fa2A17e28b3e3a3BCdD0a1a48a7924F64</td>\n",
       "      <td>0x0</td>\n",
       "      <td>0.0</td>\n",
       "      <td>0.0</td>\n",
       "      <td>0.0</td>\n",
       "      <td>0.0</td>\n",
       "      <td>NaN</td>\n",
       "      <td>NaN</td>\n",
       "    </tr>\n",
       "    <tr>\n",
       "      <th>14910</th>\n",
       "      <td>0xfff28B86a90339520059202Ceb9a3564E031CF03</td>\n",
       "      <td>0x0</td>\n",
       "      <td>0.0</td>\n",
       "      <td>0.0</td>\n",
       "      <td>0.0</td>\n",
       "      <td>0.0</td>\n",
       "      <td>NaN</td>\n",
       "      <td>NaN</td>\n",
       "    </tr>\n",
       "  </tbody>\n",
       "</table>\n",
       "</div>"
      ],
      "text/plain": [
       "                                          burners burnerParent  totalWins  \\\n",
       "14906  0xffa87ed1477FCc96C19aecD6d802f6b0EBf2149D          0x0        0.0   \n",
       "14907  0xffe164701953742Bdb16EE071b3dc6717AEcdEd1          0x0        0.0   \n",
       "14908  0xffe9ACA61ad014dc74aBcc0A0b5fe60BccdD345E          0x0        0.0   \n",
       "14909  0xfff0d61Fa2A17e28b3e3a3BCdD0a1a48a7924F64          0x0        0.0   \n",
       "14910  0xfff28B86a90339520059202Ceb9a3564E031CF03          0x0        0.0   \n",
       "\n",
       "       totalLosses  totalGasEarned  totalGasLost  totalGames  totalRevenue  \n",
       "14906          0.0             0.0           0.0         NaN           NaN  \n",
       "14907          0.0             0.0           0.0         NaN           NaN  \n",
       "14908          0.0             0.0           0.0         NaN           NaN  \n",
       "14909          0.0             0.0           0.0         NaN           NaN  \n",
       "14910          0.0             0.0           0.0         NaN           NaN  "
      ]
     },
     "execution_count": 44,
     "metadata": {},
     "output_type": "execute_result"
    }
   ],
   "source": [
    "players = pd.concat([players, new_players])\n",
    "print(len(players))\n",
    "players.tail()"
   ]
  },
  {
   "cell_type": "code",
   "execution_count": 46,
   "id": "546fad7d-a30c-4ff4-8664-eb4aea4078d3",
   "metadata": {},
   "outputs": [],
   "source": [
    "players.to_csv(\"players.csv\", index=False)"
   ]
  },
  {
   "cell_type": "code",
   "execution_count": 47,
   "id": "1223ec38-0b04-4df0-accf-acde0ff20b00",
   "metadata": {},
   "outputs": [],
   "source": [
    "players.to_pickle(\"players.pkl\")"
   ]
  },
  {
   "cell_type": "code",
   "execution_count": null,
   "id": "21fc1c8a-6980-4962-8a62-f987c164dcd0",
   "metadata": {},
   "outputs": [],
   "source": []
  }
 ],
 "metadata": {
  "kernelspec": {
   "display_name": "Python 3 (ipykernel)",
   "language": "python",
   "name": "python3"
  },
  "language_info": {
   "codemirror_mode": {
    "name": "ipython",
    "version": 3
   },
   "file_extension": ".py",
   "mimetype": "text/x-python",
   "name": "python",
   "nbconvert_exporter": "python",
   "pygments_lexer": "ipython3",
   "version": "3.11.5"
  }
 },
 "nbformat": 4,
 "nbformat_minor": 5
}
